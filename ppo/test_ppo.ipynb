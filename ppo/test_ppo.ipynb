{
 "cells": [
  {
   "cell_type": "code",
   "execution_count": 1,
   "metadata": {},
   "outputs": [],
   "source": [
    "import torch\n",
    "import torch.nn as nn\n",
    "import torch.optim as optim\n",
    "import numpy as np\n",
    "import gym\n",
    "from IPython import display"
   ]
  },
  {
   "cell_type": "code",
   "execution_count": 2,
   "metadata": {},
   "outputs": [],
   "source": [
    "from ppo import PolicyNetwork, PPOAgent"
   ]
  },
  {
   "cell_type": "code",
   "execution_count": 3,
   "metadata": {},
   "outputs": [],
   "source": [
    "\n",
    "# Environment setup\n",
    "env = gym.make('CartPole-v1')  # Replace with your 2D maze environment\n"
   ]
  },
  {
   "cell_type": "code",
   "execution_count": 4,
   "metadata": {},
   "outputs": [],
   "source": [
    "\n",
    "# PPO parameters\n",
    "state_dim = env.observation_space.shape[0]\n",
    "action_dim = env.action_space.n\n",
    "lr = 0.001\n",
    "gamma = 0.99\n",
    "epsilon_clip = 0.1\n",
    "\n",
    "ppo_agent = PPOAgent(state_dim, action_dim, lr, gamma, epsilon_clip)\n"
   ]
  },
  {
   "cell_type": "code",
   "execution_count": 7,
   "metadata": {},
   "outputs": [
    {
     "name": "stdout",
     "output_type": "stream",
     "text": [
      "[array([0.50861603, 0.49138394], dtype=float32), array([0.51267064, 0.48732942], dtype=float32), array([0.5086045, 0.4913955], dtype=float32), array([0.51282233, 0.48717767], dtype=float32), array([0.5085772 , 0.49142277], dtype=float32), array([0.51361966, 0.48638028], dtype=float32), array([0.5081432 , 0.49185678], dtype=float32), array([0.5126833 , 0.48731676], dtype=float32), array([0.5140834, 0.4859166], dtype=float32), array([0.512106  , 0.48789394], dtype=float32), array([0.51408076, 0.48591924], dtype=float32), array([0.5144085, 0.4855915], dtype=float32), array([0.5089071 , 0.49109292], dtype=float32), array([0.51109123, 0.4889087 ], dtype=float32), array([0.50822294, 0.49177712], dtype=float32), array([0.5090783, 0.4909217], dtype=float32), array([0.5147395, 0.4852605], dtype=float32), array([0.5165912 , 0.48340878], dtype=float32), array([0.5137822, 0.4862178], dtype=float32), array([0.5049338, 0.4950663], dtype=float32), array([0.50820714, 0.49179295], dtype=float32), array([0.51382154, 0.48617852], dtype=float32), array([0.5105749, 0.4894252], dtype=float32), array([0.51357436, 0.48642558], dtype=float32), array([0.51069695, 0.48930305], dtype=float32), array([0.512863  , 0.48713708], dtype=float32), array([0.51228637, 0.48771363], dtype=float32), array([0.5117673 , 0.48823258], dtype=float32), array([0.5078461 , 0.49215385], dtype=float32), array([0.50145966, 0.49854034], dtype=float32), array([0.49537262, 0.5046274 ], dtype=float32)]\n",
      "[0.50462735 0.4953726 ]\n",
      "[0.50462735 0.4953726 ]\n"
     ]
    },
    {
     "ename": "ValueError",
     "evalue": "setting an array element with a sequence.",
     "output_type": "error",
     "traceback": [
      "\u001b[0;31m---------------------------------------------------------------------------\u001b[0m",
      "\u001b[0;31mTypeError\u001b[0m                                 Traceback (most recent call last)",
      "\u001b[0;31mTypeError\u001b[0m: only size-1 arrays can be converted to Python scalars",
      "\nThe above exception was the direct cause of the following exception:\n",
      "\u001b[0;31mValueError\u001b[0m                                Traceback (most recent call last)",
      "\u001b[1;32m/home/alex/projects/2023_SRP_long_horizon/ppo/test_ppo.ipynb Cell 5\u001b[0m line \u001b[0;36m3\n\u001b[1;32m     <a href='vscode-notebook-cell:/home/alex/projects/2023_SRP_long_horizon/ppo/test_ppo.ipynb#W4sZmlsZQ%3D%3D?line=33'>34</a>\u001b[0m \u001b[39m# Compute returns and advantages\u001b[39;00m\n\u001b[1;32m     <a href='vscode-notebook-cell:/home/alex/projects/2023_SRP_long_horizon/ppo/test_ppo.ipynb#W4sZmlsZQ%3D%3D?line=34'>35</a>\u001b[0m returns \u001b[39m=\u001b[39m []\n\u001b[0;32m---> <a href='vscode-notebook-cell:/home/alex/projects/2023_SRP_long_horizon/ppo/test_ppo.ipynb#W4sZmlsZQ%3D%3D?line=35'>36</a>\u001b[0m advantages \u001b[39m=\u001b[39m ppo_agent\u001b[39m.\u001b[39;49mcompute_advantage(rewards, values, dones)\n\u001b[1;32m     <a href='vscode-notebook-cell:/home/alex/projects/2023_SRP_long_horizon/ppo/test_ppo.ipynb#W4sZmlsZQ%3D%3D?line=37'>38</a>\u001b[0m \u001b[39mfor\u001b[39;00m t \u001b[39min\u001b[39;00m \u001b[39mrange\u001b[39m(\u001b[39mlen\u001b[39m(rewards)):\n\u001b[1;32m     <a href='vscode-notebook-cell:/home/alex/projects/2023_SRP_long_horizon/ppo/test_ppo.ipynb#W4sZmlsZQ%3D%3D?line=38'>39</a>\u001b[0m     Gt \u001b[39m=\u001b[39m np\u001b[39m.\u001b[39msum([r \u001b[39m*\u001b[39m (ppo_agent\u001b[39m.\u001b[39mgamma \u001b[39m*\u001b[39m\u001b[39m*\u001b[39m i) \u001b[39mfor\u001b[39;00m i, r \u001b[39min\u001b[39;00m \u001b[39menumerate\u001b[39m(rewards[t:])])\n",
      "File \u001b[0;32m~/projects/2023_SRP_long_horizon/ppo/ppo.py:41\u001b[0m, in \u001b[0;36mPPOAgent.compute_advantage\u001b[0;34m(self, rewards, values, dones)\u001b[0m\n\u001b[1;32m     39\u001b[0m     \u001b[39mprint\u001b[39m(delta)\n\u001b[1;32m     40\u001b[0m     \u001b[39mprint\u001b[39m(last_advantage)\n\u001b[0;32m---> 41\u001b[0m     advantages[t] \u001b[39m=\u001b[39m last_advantage\n\u001b[1;32m     42\u001b[0m     last_value \u001b[39m=\u001b[39m values[t]\n\u001b[1;32m     44\u001b[0m \u001b[39mreturn\u001b[39;00m advantages\n",
      "\u001b[0;31mValueError\u001b[0m: setting an array element with a sequence."
     ]
    }
   ],
   "source": [
    "\n",
    "# Training loop\n",
    "num_episodes = 1000\n",
    "\n",
    "for episode in range(num_episodes):\n",
    "    state = env.reset() # a tuple; the first element is the state\n",
    "    state = state[0]\n",
    "    done = False\n",
    "    total_reward = 0\n",
    "    states, actions, rewards, old_probs, values, dones = [], [], [], [], [], []\n",
    "\n",
    "    while not done:\n",
    "        # turn the state into a tensor with batch 1\n",
    "        state = np.array(state)\n",
    "        state = torch.FloatTensor(state).unsqueeze(0)\n",
    "        # Collect data\n",
    "        action_probs = ppo_agent.policy(state)\n",
    "        action = torch.multinomial(action_probs, 1).item()\n",
    "        value = ppo_agent.policy(state).detach().numpy()[0]\n",
    "        next_state, reward, done, truncated, info = env.step(action)\n",
    "\n",
    "        states.append(state)\n",
    "        actions.append(action)\n",
    "        rewards.append(reward)\n",
    "        dones.append(done)\n",
    "\n",
    "        old_probs.append(action_probs[0, action].item())\n",
    "        values.append(value)\n",
    "\n",
    "        state = next_state\n",
    "        total_reward += reward\n",
    "\n",
    "    print(values)\n",
    "\n",
    "    # Compute returns and advantages\n",
    "    returns = []\n",
    "    advantages = ppo_agent.compute_advantage(rewards, values, dones)\n",
    "\n",
    "    for t in range(len(rewards)):\n",
    "        Gt = np.sum([r * (ppo_agent.gamma ** i) for i, r in enumerate(rewards[t:])])\n",
    "        returns.append(Gt)\n",
    "\n",
    "    # Normalize advantages\n",
    "    advantages = (advantages - np.mean(advantages)) / (np.std(advantages) + 1e-8)\n",
    "\n",
    "    # Update policy\n",
    "    ppo_agent.update_policy(states, actions, old_probs, advantages, returns)\n",
    "\n",
    "    # Print episode info\n",
    "    print(f\"Episode: {episode + 1}, Total Reward: {total_reward}\")\n"
   ]
  }
 ],
 "metadata": {
  "kernelspec": {
   "display_name": "RL1",
   "language": "python",
   "name": "python3"
  },
  "language_info": {
   "codemirror_mode": {
    "name": "ipython",
    "version": 3
   },
   "file_extension": ".py",
   "mimetype": "text/x-python",
   "name": "python",
   "nbconvert_exporter": "python",
   "pygments_lexer": "ipython3",
   "version": "3.8.18"
  }
 },
 "nbformat": 4,
 "nbformat_minor": 2
}
