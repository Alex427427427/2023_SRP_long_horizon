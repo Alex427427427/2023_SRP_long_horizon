{
 "cells": [
  {
   "cell_type": "code",
   "execution_count": 1,
   "metadata": {},
   "outputs": [
    {
     "ename": "ImportError",
     "evalue": "cannot import name 'DummyVecEnv' from 'stable_baselines3.common.envs' (/home/alex/anaconda3/envs/RL1/lib/python3.8/site-packages/stable_baselines3/common/envs/__init__.py)",
     "output_type": "error",
     "traceback": [
      "\u001b[0;31m---------------------------------------------------------------------------\u001b[0m",
      "\u001b[0;31mImportError\u001b[0m                               Traceback (most recent call last)",
      "\u001b[1;32m/home/alex/projects/2023_SRP_long_horizon/ppo/maze_ppo.ipynb Cell 1\u001b[0m line \u001b[0;36m3\n\u001b[1;32m      <a href='vscode-notebook-cell:/home/alex/projects/2023_SRP_long_horizon/ppo/maze_ppo.ipynb#W0sZmlsZQ%3D%3D?line=0'>1</a>\u001b[0m \u001b[39mimport\u001b[39;00m \u001b[39mgym\u001b[39;00m\n\u001b[1;32m      <a href='vscode-notebook-cell:/home/alex/projects/2023_SRP_long_horizon/ppo/maze_ppo.ipynb#W0sZmlsZQ%3D%3D?line=1'>2</a>\u001b[0m \u001b[39mfrom\u001b[39;00m \u001b[39mstable_baselines3\u001b[39;00m \u001b[39mimport\u001b[39;00m PPO\n\u001b[0;32m----> <a href='vscode-notebook-cell:/home/alex/projects/2023_SRP_long_horizon/ppo/maze_ppo.ipynb#W0sZmlsZQ%3D%3D?line=2'>3</a>\u001b[0m \u001b[39mfrom\u001b[39;00m \u001b[39mstable_baselines3\u001b[39;00m\u001b[39m.\u001b[39;00m\u001b[39mcommon\u001b[39;00m\u001b[39m.\u001b[39;00m\u001b[39menvs\u001b[39;00m \u001b[39mimport\u001b[39;00m DummyVecEnv\n\u001b[1;32m      <a href='vscode-notebook-cell:/home/alex/projects/2023_SRP_long_horizon/ppo/maze_ppo.ipynb#W0sZmlsZQ%3D%3D?line=4'>5</a>\u001b[0m \u001b[39mclass\u001b[39;00m \u001b[39mMazeEnv\u001b[39;00m(gym\u001b[39m.\u001b[39mEnv):\n\u001b[1;32m      <a href='vscode-notebook-cell:/home/alex/projects/2023_SRP_long_horizon/ppo/maze_ppo.ipynb#W0sZmlsZQ%3D%3D?line=5'>6</a>\u001b[0m     \u001b[39mdef\u001b[39;00m \u001b[39m__init__\u001b[39m(\u001b[39mself\u001b[39m):\n",
      "\u001b[0;31mImportError\u001b[0m: cannot import name 'DummyVecEnv' from 'stable_baselines3.common.envs' (/home/alex/anaconda3/envs/RL1/lib/python3.8/site-packages/stable_baselines3/common/envs/__init__.py)"
     ]
    }
   ],
   "source": [
    "import gym\n",
    "from stable_baselines3 import PPO\n",
    "from stable_baselines3.common.envs import DummyVecEnv\n",
    "\n",
    "class MazeEnv(gym.Env):\n",
    "    def __init__(self):\n",
    "        super(MazeEnv, self).__init__()\n",
    "        self.action_space = gym.spaces.Discrete(4)  # 4 possible actions: 0=up, 1=down, 2=left, 3=right\n",
    "        self.observation_space = gym.spaces.Discrete(16)  # 16 possible states in a 4x4 maze\n",
    "        self.start_position = (0, 0)\n",
    "        self.goal_position = (3, 3)\n",
    "        self.current_position = self.start_position\n",
    "\n",
    "    def reset(self):\n",
    "        self.current_position = self.start_position\n",
    "        return self._get_obs()\n",
    "\n",
    "    def step(self, action):\n",
    "        if action == 0:  # up\n",
    "            self.current_position = (max(0, self.current_position[0] - 1), self.current_position[1])\n",
    "        elif action == 1:  # down\n",
    "            self.current_position = (min(3, self.current_position[0] + 1), self.current_position[1])\n",
    "        elif action == 2:  # left\n",
    "            self.current_position = (self.current_position[0], max(0, self.current_position[1] - 1))\n",
    "        elif action == 3:  # right\n",
    "            self.current_position = (self.current_position[0], min(3, self.current_position[1] + 1))\n",
    "\n",
    "        done = self.current_position == self.goal_position\n",
    "        reward = 1.0 if done else 0.0\n",
    "\n",
    "        return self._get_obs(), reward, done, {}\n",
    "\n",
    "    def _get_obs(self):\n",
    "        return self.current_position[0] * 4 + self.current_position[1]\n",
    "\n",
    "# Wrap the environment\n",
    "env = DummyVecEnv([lambda: MazeEnv()])\n",
    "\n",
    "# Create the PPO model\n",
    "model = PPO(\"MlpPolicy\", env, verbose=1)\n",
    "\n",
    "# Train the model\n",
    "model.learn(total_timesteps=10000)\n",
    "\n",
    "# Evaluate the trained model\n",
    "obs = env.reset()\n",
    "for _ in range(1000):\n",
    "    action, _states = model.predict(obs)\n",
    "    obs, rewards, dones, info = env.step(action)\n",
    "    env.render()\n",
    "\n",
    "env.close()"
   ]
  },
  {
   "cell_type": "code",
   "execution_count": null,
   "metadata": {},
   "outputs": [],
   "source": []
  }
 ],
 "metadata": {
  "kernelspec": {
   "display_name": "RL1",
   "language": "python",
   "name": "python3"
  },
  "language_info": {
   "codemirror_mode": {
    "name": "ipython",
    "version": 3
   },
   "file_extension": ".py",
   "mimetype": "text/x-python",
   "name": "python",
   "nbconvert_exporter": "python",
   "pygments_lexer": "ipython3",
   "version": "3.8.18"
  }
 },
 "nbformat": 4,
 "nbformat_minor": 2
}
