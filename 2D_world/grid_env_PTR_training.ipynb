{
 "cells": [
  {
   "cell_type": "code",
   "execution_count": 1,
   "metadata": {},
   "outputs": [],
   "source": [
    "import numpy as np\n",
    "from matplotlib import pyplot as plt\n",
    "from IPython import display\n",
    "\n",
    "np.random.seed(0)\n",
    "\n",
    "import torch\n",
    "\n",
    "import os\n",
    "# which folder\n",
    "folder_index = 2\n",
    "# Function to get the next available filename\n",
    "def get_next_filename(base_name, extension):\n",
    "    index = 1\n",
    "    while True:\n",
    "        filename = f\"{base_name}_{index}.{extension}\"\n",
    "        if not os.path.exists(filename):\n",
    "            return filename\n",
    "        index += 1"
   ]
  },
  {
   "cell_type": "code",
   "execution_count": 2,
   "metadata": {},
   "outputs": [
    {
     "data": {
      "image/png": "[encoded data removed]",
      "text/plain": [
       "<Figure size 500x500 with 1 Axes>"
      ]
     },
     "metadata": {},
     "output_type": "display_data"
    }
   ],
   "source": [
    "from grid_env import GridEnv\n",
    "env = GridEnv(sparse=True)\n",
    "env.plot()"
   ]
  },
  {
   "cell_type": "code",
   "execution_count": 3,
   "metadata": {},
   "outputs": [
    {
     "name": "stdout",
     "output_type": "stream",
     "text": [
      "The shape of the state pairs are: \n",
      "torch.Size([100000, 2, 2])\n",
      "Example of a state pair: tensor([[ 5., 14.],\n",
      "        [ 4.,  5.]])\n",
      "\n",
      "The shape of the preferences are: \n",
      "torch.Size([100000, 1])\n",
      "The preferences are: tensor([[0.],\n",
      "        [0.],\n",
      "        [1.],\n",
      "        ...,\n",
      "        [0.],\n",
      "        [0.],\n",
      "        [1.]])\n"
     ]
    },
    {
     "data": {
      "image/png": "[encoded data removed]",
      "text/plain": [
       "<Figure size 2000x500 with 5 Axes>"
      ]
     },
     "metadata": {},
     "output_type": "display_data"
    }
   ],
   "source": [
    "# load the state_pairs and preferences.pt\n",
    "state_pairs = torch.load(f'world_{folder_index}/state_pairs.pt')\n",
    "preferences = torch.load(f'world_{folder_index}/preferences.pt')\n",
    "\n",
    "print(\"The shape of the state pairs are: \\n\" + str(state_pairs.size()))\n",
    "print(\"Example of a state pair: \" + str(state_pairs[0]))\n",
    "print(\"\")\n",
    "print(\"The shape of the preferences are: \\n\" + str(preferences.size()))\n",
    "print(\"The preferences are: \" + str(preferences))\n",
    "\n",
    "num_pairs = state_pairs.size()[0]\n",
    "# select 5 random pairs of states, and colour the state that is prefered in green\n",
    "num_plot = 5\n",
    "# create subplots\n",
    "fig, axs = plt.subplots(1, num_plot, figsize=(20,5))\n",
    "# plot each state pair\n",
    "for i in range(num_plot):\n",
    "    # randomly choose a state pair\n",
    "    idx = np.random.randint(num_pairs)\n",
    "    s1 = state_pairs[idx,0,:]\n",
    "    s2 = state_pairs[idx,1,:]\n",
    "    p = preferences[idx,0]\n",
    "    # plot the first state\n",
    "    axs[i].imshow(env.occ_map.T, origin=\"lower\",extent=[0,env.N,0,env.N], cmap='gray')\n",
    "    axs[i].plot(env.xl+0.5,env.yl+0.5,'gx') # goal location\n",
    "    axs[i].plot(s1[0]+0.5,s1[1]+0.5,'bo')\n",
    "    # plot the second state\n",
    "    axs[i].plot(s2[0]+0.5,s2[1]+0.5,'bo')\n",
    "    # plot the prefered state in green\n",
    "    if p == 0:\n",
    "        axs[i].plot(s1[0]+0.5,s1[1]+0.5,'go', label='prefered state')\n",
    "    else:\n",
    "        axs[i].plot(s2[0]+0.5,s2[1]+0.5,'go', label='prefered state')\n",
    "    # finish up the rest of the plot settings\n",
    "    axs[i].legend()\n",
    "    axs[i].axis('off')"
   ]
  },
  {
   "cell_type": "code",
   "execution_count": 4,
   "metadata": {},
   "outputs": [],
   "source": [
    "# create dataset\n",
    "from torch.utils.data import DataLoader\n",
    "from torch.utils.data.dataset import Dataset\n",
    "\n",
    "class PreferenceDataset(Dataset):\n",
    "    def __init__(self, state_pairs, preferences):\n",
    "        self.state_pairs = state_pairs\n",
    "        self.preferences = preferences\n",
    "\n",
    "    def __getitem__(self, index):\n",
    "        return self.state_pairs[index], self.preferences[index]\n",
    "\n",
    "    def __len__(self):\n",
    "        return len(self.state_pairs)"
   ]
  },
  {
   "cell_type": "code",
   "execution_count": 5,
   "metadata": {},
   "outputs": [
    {
     "name": "stdout",
     "output_type": "stream",
     "text": [
      "The shape of the input batch: torch.Size([32, 2, 2])\n",
      "The shape of the batch labels: torch.Size([32, 1])\n"
     ]
    }
   ],
   "source": [
    "dataset = PreferenceDataset(state_pairs, preferences)\n",
    "# split the dataset into train, validation and test\n",
    "train_size = int(0.7 * len(dataset))\n",
    "val_size = int(0.2 * len(dataset))\n",
    "test_size = len(dataset) - train_size - val_size\n",
    "train_set, val_set, test_set = torch.utils.data.random_split(dataset, [train_size, val_size, test_size])\n",
    "# create dataloaders\n",
    "batch_size = 32\n",
    "train_loader = DataLoader(train_set, batch_size=batch_size, shuffle=True)\n",
    "val_loader = DataLoader(val_set, batch_size=batch_size, shuffle=True)\n",
    "test_loader = DataLoader(test_set, batch_size=batch_size, shuffle=True)\n",
    "\n",
    "# print the shapes of batches from dataloaders\n",
    "batch = next(iter(train_loader))\n",
    "print(\"The shape of the input batch: \" + str(batch[0].shape))\n",
    "print(\"The shape of the batch labels: \" + str(batch[1].shape))"
   ]
  },
  {
   "cell_type": "code",
   "execution_count": 6,
   "metadata": {},
   "outputs": [],
   "source": [
    "import torch.nn as nn\n",
    "import torch.nn.functional as F\n",
    "import torch.optim\n",
    "\n",
    "# create a preference learning model\n",
    "class PreferenceModel(nn.Module):\n",
    "    def __init__(self):\n",
    "        super(PreferenceModel, self).__init__()\n",
    "        self.fc = nn.Sequential(\n",
    "            nn.Linear(2, 20),\n",
    "            nn.Sigmoid(),\n",
    "            nn.Linear(20, 20),\n",
    "            nn.Sigmoid(),\n",
    "            nn.Linear(20, 1),\n",
    "        )\n",
    "        self.sigmoid = nn.Sigmoid()\n",
    "        self.relu = nn.ReLU()\n",
    "    \n",
    "    def forward(self, x):\n",
    "        # apply the linear layers to each state in the state pair\n",
    "        #print(x[:,0].shape)\n",
    "        x1 = self.fc(x[:, 0])\n",
    "        x1 = torch.exp(x1)\n",
    "        t_left_1 = x1[:, 0].unsqueeze(1)\n",
    "        x2 = self.fc(x[:, 1])\n",
    "        x2 = torch.exp(x2)\n",
    "        t_left_2 = x2[:, 0].unsqueeze(1)\n",
    "        return self.sigmoid(t_left_1 - t_left_2)\n",
    "    \n",
    "    def predict_time_to_goal(self, x):\n",
    "        t = self.fc(x)\n",
    "        t = torch.exp(t)\n",
    "        t = t[:, 0].unsqueeze(1)\n",
    "        return t\n",
    "    \n",
    "# training step\n",
    "def training_step(input_batch, target_batch, model, optimizer, loss_fn):\n",
    "    preds = model(input_batch) # forward pass\n",
    "    loss = loss_fn(preds, target_batch) # find loss\n",
    "    optimizer.zero_grad() # clear gradients in the optimiser\n",
    "    loss.backward() # back prop\n",
    "    optimizer.step() # gradient descend\n",
    "    return loss.item() # return loss\n",
    "\n",
    "# validation step\n",
    "def validation_step(input_batch, target_batch, model, loss_fn):\n",
    "    preds = model(input_batch) # forward pass\n",
    "    loss = loss_fn(preds, target_batch) # find loss\n",
    "    return loss.item()"
   ]
  },
  {
   "cell_type": "code",
   "execution_count": 7,
   "metadata": {},
   "outputs": [],
   "source": [
    "# instantiate\n",
    "model = PreferenceModel()\n",
    "\n",
    "optimizer = torch.optim.SGD(model.parameters(), lr=0.01)\n",
    "\n",
    "def loss_fn(preds, target):\n",
    "    return F.binary_cross_entropy(preds, target)\n",
    "\n",
    "num_epochs = 100"
   ]
  },
  {
   "cell_type": "code",
   "execution_count": 8,
   "metadata": {},
   "outputs": [
    {
     "name": "stdout",
     "output_type": "stream",
     "text": [
      "Epoch: 1/100, Train Loss: 0.6917, Val Loss: 0.6902\n",
      "Epoch: 2/100, Train Loss: 0.6855, Val Loss: 0.6717\n",
      "Epoch: 3/100, Train Loss: 0.4974, Val Loss: 0.2907\n",
      "Epoch: 4/100, Train Loss: 0.2792, Val Loss: 0.2450\n",
      "Epoch: 5/100, Train Loss: 0.2480, Val Loss: 0.2794\n",
      "Epoch: 6/100, Train Loss: 0.2261, Val Loss: 0.2087\n",
      "Epoch: 7/100, Train Loss: 0.2170, Val Loss: 0.1977\n",
      "Epoch: 8/100, Train Loss: 0.2124, Val Loss: 0.2016\n",
      "Epoch: 9/100, Train Loss: 0.2049, Val Loss: 0.1962\n",
      "Epoch: 10/100, Train Loss: 0.2011, Val Loss: 0.1901\n",
      "Epoch: 11/100, Train Loss: 0.2004, Val Loss: 0.2032\n",
      "Epoch: 12/100, Train Loss: 0.1986, Val Loss: 0.1947\n",
      "Epoch: 13/100, Train Loss: 0.1949, Val Loss: 0.2059\n",
      "Epoch: 14/100, Train Loss: 0.1928, Val Loss: 0.1921\n",
      "Epoch: 15/100, Train Loss: 0.1895, Val Loss: 0.1855\n",
      "Epoch: 16/100, Train Loss: 0.1901, Val Loss: 0.1826\n",
      "Epoch: 17/100, Train Loss: 0.1837, Val Loss: 0.1888\n",
      "Epoch: 18/100, Train Loss: 0.1840, Val Loss: 0.1747\n",
      "Epoch: 19/100, Train Loss: 0.1812, Val Loss: 0.1928\n",
      "Epoch: 20/100, Train Loss: 0.1805, Val Loss: 0.1769\n",
      "Epoch: 21/100, Train Loss: 0.1774, Val Loss: 0.1767\n",
      "Epoch: 22/100, Train Loss: 0.1749, Val Loss: 0.1644\n",
      "Epoch: 23/100, Train Loss: 0.1742, Val Loss: 0.1770\n",
      "Epoch: 24/100, Train Loss: 0.1761, Val Loss: 0.1744\n",
      "Epoch: 25/100, Train Loss: 0.1725, Val Loss: 0.1781\n",
      "Epoch: 26/100, Train Loss: 0.1685, Val Loss: 0.2476\n",
      "Epoch: 27/100, Train Loss: 0.1680, Val Loss: 0.1590\n",
      "Epoch: 28/100, Train Loss: 0.1676, Val Loss: 0.1977\n",
      "Epoch: 29/100, Train Loss: 0.1646, Val Loss: 0.1533\n",
      "Epoch: 30/100, Train Loss: 0.1686, Val Loss: 0.1566\n",
      "Epoch: 31/100, Train Loss: 0.1633, Val Loss: 0.1627\n",
      "Epoch: 32/100, Train Loss: 0.1607, Val Loss: 0.1510\n",
      "Epoch: 33/100, Train Loss: 0.1608, Val Loss: 0.1566\n",
      "Epoch: 34/100, Train Loss: 0.1605, Val Loss: 0.1719\n",
      "Epoch: 35/100, Train Loss: 0.1585, Val Loss: 0.1500\n",
      "Epoch: 36/100, Train Loss: 0.1576, Val Loss: 0.1480\n",
      "Epoch: 37/100, Train Loss: 0.1574, Val Loss: 0.1548\n",
      "Epoch: 38/100, Train Loss: 0.1559, Val Loss: 0.1599\n",
      "Epoch: 39/100, Train Loss: 0.1547, Val Loss: 0.1475\n",
      "Epoch: 40/100, Train Loss: 0.1552, Val Loss: 0.1563\n",
      "Epoch: 41/100, Train Loss: 0.1547, Val Loss: 0.1475\n",
      "Epoch: 42/100, Train Loss: 0.1527, Val Loss: 0.1726\n",
      "Epoch: 43/100, Train Loss: 0.1529, Val Loss: 0.1652\n",
      "Epoch: 44/100, Train Loss: 0.1515, Val Loss: 0.1649\n",
      "Epoch: 45/100, Train Loss: 0.1522, Val Loss: 0.1525\n",
      "Epoch: 46/100, Train Loss: 0.1509, Val Loss: 0.1485\n",
      "Epoch: 47/100, Train Loss: 0.1523, Val Loss: 0.1571\n",
      "Epoch: 48/100, Train Loss: 0.1514, Val Loss: 0.1468\n",
      "Epoch: 49/100, Train Loss: 0.1507, Val Loss: 0.1500\n",
      "Epoch: 50/100, Train Loss: 0.1514, Val Loss: 0.1619\n",
      "Epoch: 51/100, Train Loss: 0.1497, Val Loss: 0.1635\n",
      "Epoch: 52/100, Train Loss: 0.1496, Val Loss: 0.1425\n",
      "Epoch: 53/100, Train Loss: 0.1492, Val Loss: 0.1433\n",
      "Epoch: 54/100, Train Loss: 0.1489, Val Loss: 0.1425\n",
      "Epoch: 55/100, Train Loss: 0.1487, Val Loss: 0.1678\n",
      "Epoch: 56/100, Train Loss: 0.1490, Val Loss: 0.1449\n",
      "Epoch: 57/100, Train Loss: 0.1479, Val Loss: 0.2150\n",
      "Epoch: 58/100, Train Loss: 0.1483, Val Loss: 0.1417\n",
      "Epoch: 59/100, Train Loss: 0.1481, Val Loss: 0.1419\n",
      "Epoch: 60/100, Train Loss: 0.1488, Val Loss: 0.1445\n",
      "Epoch: 61/100, Train Loss: 0.1474, Val Loss: 0.1425\n",
      "Epoch: 62/100, Train Loss: 0.1473, Val Loss: 0.1400\n",
      "Epoch: 63/100, Train Loss: 0.1467, Val Loss: 0.1423\n",
      "Epoch: 64/100, Train Loss: 0.1476, Val Loss: 0.1392\n",
      "Epoch: 65/100, Train Loss: 0.1471, Val Loss: 0.1406\n",
      "Epoch: 66/100, Train Loss: 0.1476, Val Loss: 0.1456\n",
      "Epoch: 67/100, Train Loss: 0.1465, Val Loss: 0.1388\n",
      "Epoch: 68/100, Train Loss: 0.1461, Val Loss: 0.1401\n",
      "Epoch: 69/100, Train Loss: 0.1456, Val Loss: 0.1415\n",
      "Epoch: 70/100, Train Loss: 0.1460, Val Loss: 0.1448\n",
      "Epoch: 71/100, Train Loss: 0.1455, Val Loss: 0.1477\n",
      "Epoch: 72/100, Train Loss: 0.1451, Val Loss: 0.1413\n",
      "Epoch: 73/100, Train Loss: 0.1452, Val Loss: 0.1402\n",
      "Epoch: 74/100, Train Loss: 0.1446, Val Loss: 0.1551\n",
      "Epoch: 75/100, Train Loss: 0.1443, Val Loss: 0.1409\n",
      "Epoch: 76/100, Train Loss: 0.1443, Val Loss: 0.1440\n",
      "Epoch: 77/100, Train Loss: 0.1447, Val Loss: 0.1456\n",
      "Epoch: 78/100, Train Loss: 0.1441, Val Loss: 0.1377\n",
      "Epoch: 79/100, Train Loss: 0.1443, Val Loss: 0.1464\n",
      "Epoch: 80/100, Train Loss: 0.1433, Val Loss: 0.1398\n",
      "Epoch: 81/100, Train Loss: 0.1429, Val Loss: 0.1389\n",
      "Epoch: 82/100, Train Loss: 0.1429, Val Loss: 0.1397\n",
      "Epoch: 83/100, Train Loss: 0.1427, Val Loss: 0.2901\n",
      "Epoch: 84/100, Train Loss: 0.1424, Val Loss: 0.1380\n",
      "Epoch: 85/100, Train Loss: 0.1424, Val Loss: 0.1385\n",
      "Epoch: 86/100, Train Loss: 0.1428, Val Loss: 0.1362\n",
      "Epoch: 87/100, Train Loss: 0.1415, Val Loss: 0.1400\n",
      "Epoch: 88/100, Train Loss: 0.1416, Val Loss: 0.1369\n",
      "Epoch: 89/100, Train Loss: 0.1417, Val Loss: 0.1367\n",
      "Epoch: 90/100, Train Loss: 0.1416, Val Loss: 0.1469\n",
      "Epoch: 91/100, Train Loss: 0.1411, Val Loss: 0.1367\n",
      "Epoch: 92/100, Train Loss: 0.1408, Val Loss: 0.1416\n",
      "Epoch: 93/100, Train Loss: 0.1411, Val Loss: 0.1349\n",
      "Epoch: 94/100, Train Loss: 0.1404, Val Loss: 0.1371\n",
      "Epoch: 95/100, Train Loss: 0.1403, Val Loss: 0.1361\n",
      "Epoch: 96/100, Train Loss: 0.1405, Val Loss: 0.1427\n",
      "Epoch: 97/100, Train Loss: 0.1407, Val Loss: 0.1411\n",
      "Epoch: 98/100, Train Loss: 0.1397, Val Loss: 0.1378\n",
      "Epoch: 99/100, Train Loss: 0.1392, Val Loss: 0.1352\n",
      "Epoch: 100/100, Train Loss: 0.1401, Val Loss: 0.1506\n"
     ]
    }
   ],
   "source": [
    "base_filename = f'world_{folder_index}/models/best_model'\n",
    "file_extension = 'pt'\n",
    "next_filename = get_next_filename(base_filename, file_extension)\n",
    "\n",
    "# train\n",
    "train_losses = []\n",
    "val_losses = []\n",
    "min_val_loss = float('inf')\n",
    "early_stop_counter = 0\n",
    "patience = 20\n",
    "\n",
    "for epoch in range(num_epochs):\n",
    "    train_loss = 0.0\n",
    "    val_loss = 0.0\n",
    "    \n",
    "    # training\n",
    "    model.train()\n",
    "    for input_batch, target_batch in train_loader:\n",
    "        train_loss += training_step(input_batch, target_batch, model, optimizer, loss_fn)\n",
    "    # validation\n",
    "    model.eval()\n",
    "    for input_batch, target_batch in val_loader:\n",
    "        val_loss += validation_step(input_batch, target_batch, model, loss_fn)\n",
    "        \n",
    "    # normalise the losses\n",
    "    train_loss /= len(train_loader)\n",
    "    val_loss /= len(val_loader)\n",
    "    \n",
    "    # Check if validation loss has decreased\n",
    "    if val_loss < min_val_loss:\n",
    "        min_val_loss = val_loss\n",
    "        # Save the model state\n",
    "        torch.save(model.state_dict(), next_filename)\n",
    "        # clear early stop counter\n",
    "        early_stop_counter = 0\n",
    "    else:\n",
    "        early_stop_counter += 1\n",
    "        if early_stop_counter >= patience:\n",
    "            print(f'Early stopping at epoch {epoch+1}')\n",
    "            break\n",
    "    \n",
    "    # append the losses\n",
    "    train_losses.append(train_loss)\n",
    "    val_losses.append(val_loss)\n",
    "    # print the losses every 10 epoch\n",
    "    #if epoch % 10 == 0:\n",
    "    print(f\"Epoch: {epoch+1}/{num_epochs}, Train Loss: {train_loss:.4f}, Val Loss: {val_loss:.4f}\")"
   ]
  },
  {
   "cell_type": "code",
   "execution_count": 9,
   "metadata": {},
   "outputs": [
    {
     "data": {
      "image/png": "[encoded data removed]",
      "text/plain": [
       "<Figure size 640x480 with 1 Axes>"
      ]
     },
     "metadata": {},
     "output_type": "display_data"
    }
   ],
   "source": [
    "base_filename = f'world_{folder_index}/figs/loss'\n",
    "file_extension = 'png'\n",
    "next_filename = get_next_filename(base_filename, file_extension)\n",
    "\n",
    "# plot the losses\n",
    "plt.plot(train_losses, label='train loss')\n",
    "plt.plot(val_losses, label='val loss')  \n",
    "plt.xlabel('epoch')\n",
    "plt.ylabel('loss')\n",
    "plt.title('Losses')\n",
    "plt.legend()\n",
    "plt.savefig(next_filename)\n",
    "plt.show()"
   ]
  },
  {
   "cell_type": "code",
   "execution_count": 10,
   "metadata": {},
   "outputs": [
    {
     "data": {
      "image/png": "[encoded data removed]",
      "text/plain": [
       "<Figure size 640x480 with 2 Axes>"
      ]
     },
     "metadata": {},
     "output_type": "display_data"
    }
   ],
   "source": [
    "# plot the predictions over a 2D grid \n",
    "def plot_predictions(model, env):\n",
    "    # create a 2D grid\n",
    "    x = np.linspace(0, env.N-1, env.N)\n",
    "    y = np.linspace(0, env.N-1, env.N)\n",
    "    X, Y = np.meshgrid(x, y)\n",
    "    \n",
    "    # create a tensor of the grid\n",
    "    grid = torch.tensor(np.stack([X.flatten(), Y.flatten()], axis=1), dtype=torch.float)\n",
    "    # get the predictions\n",
    "    preds = model.predict_time_to_goal(grid).detach().numpy()\n",
    "    #print(preds)\n",
    "    # reshape the predictions\n",
    "    preds = preds.reshape(env.N, env.N)\n",
    "    # plot the predictions\n",
    "    plt.imshow(preds.T, origin=\"lower\",extent=[0,env.N,0,env.N], cmap='gray')\n",
    "    plt.colorbar()\n",
    "    plt.plot(env.xl+0.5,env.yl+0.5,'gx') # goal location\n",
    "    plt.xlabel('x')\n",
    "    plt.ylabel('y')\n",
    "    plt.title('Predictions')\n",
    "    plt.show()\n",
    "\n",
    "plot_predictions(model, env)"
   ]
  },
  {
   "cell_type": "code",
   "execution_count": null,
   "metadata": {},
   "outputs": [],
   "source": [
    "# test value iteration on the grid\n"
   ]
  }
 ],
 "metadata": {
  "kernelspec": {
   "display_name": "RL1",
   "language": "python",
   "name": "python3"
  },
  "language_info": {
   "codemirror_mode": {
    "name": "ipython",
    "version": 3
   },
   "file_extension": ".py",
   "mimetype": "text/x-python",
   "name": "python",
   "nbconvert_exporter": "python",
   "pygments_lexer": "ipython3",
   "version": "3.8.18"
  }
 },
 "nbformat": 4,
 "nbformat_minor": 2
}
