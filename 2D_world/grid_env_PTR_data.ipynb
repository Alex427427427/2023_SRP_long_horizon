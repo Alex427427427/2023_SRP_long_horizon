{
 "cells": [
  {
   "cell_type": "code",
   "execution_count": 28,
   "metadata": {},
   "outputs": [],
   "source": [
    "import numpy as np\n",
    "from matplotlib import pyplot as plt\n",
    "from IPython import display\n",
    "\n",
    "np.random.seed(0)\n",
    "\n",
    "import torch\n",
    "\n",
    "# which folder\n",
    "folder_index = 1"
   ]
  },
  {
   "cell_type": "code",
   "execution_count": 3,
   "metadata": {},
   "outputs": [
    {
     "data": {
      "image/png": "[encoded data removed]",
      "text/plain": [
       "<Figure size 500x500 with 1 Axes>"
      ]
     },
     "metadata": {},
     "output_type": "display_data"
    }
   ],
   "source": [
    "from grid_env import GridEnv\n",
    "env = GridEnv(sparse=True)\n",
    "env.plot()"
   ]
  },
  {
   "cell_type": "code",
   "execution_count": 4,
   "metadata": {},
   "outputs": [
    {
     "data": {
      "image/png": "[encoded data removed]",
      "text/plain": [
       "<Figure size 500x500 with 1 Axes>"
      ]
     },
     "metadata": {},
     "output_type": "display_data"
    }
   ],
   "source": [
    "# load the trajectories\n",
    "import pickle\n",
    "with open('world_{folder_index}/trajs.pkl','rb') as f:\n",
    "    trajs = pickle.load(f)\n",
    "\n",
    "# plot the trajectories\n",
    "num_plot = 3\n",
    "plt.figure(figsize=(5,5))\n",
    "plt.imshow(env.occ_map.T, origin=\"lower\",extent=[0,env.N,0,env.N], cmap='gray')\n",
    "plt.plot(env.xl+0.5,env.yl+0.5,'gx') # goal location\n",
    "for i in range(num_plot):\n",
    "    plt.plot(trajs[i][:,0]+0.5,trajs[i][:,1]+0.5, '-o',label=f'trajectory {i+1}')\n",
    "# finish up the rest of the plot settings\n",
    "plt.legend()\n",
    "plt.axis('off')\n",
    "plt.show()"
   ]
  },
  {
   "cell_type": "code",
   "execution_count": 6,
   "metadata": {},
   "outputs": [
    {
     "name": "stdout",
     "output_type": "stream",
     "text": [
      "The length of the trajectory set is: 150\n",
      "The length of the first trajectory is: 23\n"
     ]
    }
   ],
   "source": [
    "print(\"The length of the trajectory set is: \" + str(len(trajs)))\n",
    "print(\"The length of the first trajectory is: \" + str(len(trajs[0])))"
   ]
  },
  {
   "cell_type": "code",
   "execution_count": 18,
   "metadata": {},
   "outputs": [],
   "source": [
    "# manually create a dataset from the trajectories.\n",
    "# the input is a pair of states, the output is the preference label: 0 if the first state is prefered, 1 if the second state is prefered.\n",
    "# the preference is defined as the state whose index is larger in the trajectory.\n",
    "# the state pairs are randomly samples from the same randomly chosen trajectory.\n",
    "\n",
    "# the number of state pairs to sample\n",
    "num_pairs = 10000\n",
    "# the number of trajectories\n",
    "num_traj = len(trajs)\n",
    "# state length\n",
    "state_len = len(trajs[0][0])\n",
    "# noise in the preference assignment\n",
    "noise = 0.1\n",
    "# initialise dataset\n",
    "state_pairs = torch.zeros((num_pairs,2,state_len))\n",
    "preferences = torch.zeros((num_pairs,1))\n",
    "\n",
    "for i in range(num_pairs):\n",
    "    # randomly choose a trajectory\n",
    "    traj = trajs[np.random.randint(num_traj)]\n",
    "    # randomly choose two distinct states from the trajectory\n",
    "    idx1, idx2 = np.random.choice(len(traj),2,replace=False)\n",
    "    s1 = traj[idx1]\n",
    "    s2 = traj[idx2]\n",
    "    # assign the state pair to the state pair tensor\n",
    "    state_pairs[i,0,:] = torch.tensor(s1)\n",
    "    state_pairs[i,1,:] = torch.tensor(s2)\n",
    "    # whichever state has the larger index is prefered, with some noise\n",
    "    if np.random.rand() > noise:\n",
    "        if idx1 > idx2:\n",
    "            pref = 0\n",
    "        else:\n",
    "            pref = 1\n",
    "    else:\n",
    "        # randomly assign preference from 0 or 1\n",
    "        pref = np.random.randint(2)\n",
    "    # assign the preference to the preference tensor\n",
    "    preferences[i,0] = pref\n",
    "    "
   ]
  },
  {
   "cell_type": "code",
   "execution_count": 19,
   "metadata": {},
   "outputs": [
    {
     "name": "stdout",
     "output_type": "stream",
     "text": [
      "The shape of the state pairs are: \n",
      "torch.Size([10000, 2, 2])\n",
      "Example of a state pair: tensor([[10., 11.],\n",
      "        [13., 14.]])\n",
      "\n",
      "The shape of the preferences are: \n",
      "torch.Size([10000, 1])\n",
      "The preferences are: tensor([[0.],\n",
      "        [0.],\n",
      "        [1.],\n",
      "        ...,\n",
      "        [0.],\n",
      "        [1.],\n",
      "        [0.]])\n"
     ]
    }
   ],
   "source": [
    "print(\"The shape of the state pairs are: \\n\" + str(state_pairs.size()))\n",
    "print(\"Example of a state pair: \" + str(state_pairs[0]))\n",
    "print(\"\")\n",
    "print(\"The shape of the preferences are: \\n\" + str(preferences.size()))\n",
    "print(\"The preferences are: \" + str(preferences))\n"
   ]
  },
  {
   "cell_type": "code",
   "execution_count": 26,
   "metadata": {},
   "outputs": [
    {
     "data": {
      "image/png": "[encoded data removed]",
      "text/plain": [
       "<Figure size 2000x500 with 5 Axes>"
      ]
     },
     "metadata": {},
     "output_type": "display_data"
    }
   ],
   "source": [
    "# select 5 random pairs of states, and colour the state that is prefered in green\n",
    "num_plot = 5\n",
    "# create subplots\n",
    "fig, axs = plt.subplots(1, num_plot, figsize=(20,5))\n",
    "# plot each state pair\n",
    "for i in range(num_plot):\n",
    "    # randomly choose a state pair\n",
    "    idx = np.random.randint(num_pairs)\n",
    "    s1 = state_pairs[idx,0,:]\n",
    "    s2 = state_pairs[idx,1,:]\n",
    "    p = preferences[idx,0]\n",
    "    # plot the first state\n",
    "    axs[i].imshow(env.occ_map.T, origin=\"lower\",extent=[0,env.N,0,env.N], cmap='gray')\n",
    "    axs[i].plot(env.xl+0.5,env.yl+0.5,'gx') # goal location\n",
    "    axs[i].plot(s1[0]+0.5,s1[1]+0.5,'bo')\n",
    "    # plot the second state\n",
    "    axs[i].plot(s2[0]+0.5,s2[1]+0.5,'bo')\n",
    "    # plot the prefered state in green\n",
    "    if p == 0:\n",
    "        axs[i].plot(s1[0]+0.5,s1[1]+0.5,'go', label='prefered state')\n",
    "    else:\n",
    "        axs[i].plot(s2[0]+0.5,s2[1]+0.5,'go', label='prefered state')\n",
    "    # finish up the rest of the plot settings\n",
    "    axs[i].legend()\n",
    "    axs[i].axis('off')"
   ]
  },
  {
   "cell_type": "code",
   "execution_count": 29,
   "metadata": {},
   "outputs": [],
   "source": [
    "# save the dataset tensors into files\n",
    "torch.save(state_pairs, f'world_{folder_index}/state_pairs.pt')\n",
    "torch.save(preferences, f'world_{folder_index}/preferences.pt')"
   ]
  }
 ],
 "metadata": {
  "kernelspec": {
   "display_name": "RL1",
   "language": "python",
   "name": "python3"
  },
  "language_info": {
   "codemirror_mode": {
    "name": "ipython",
    "version": 3
   },
   "file_extension": ".py",
   "mimetype": "text/x-python",
   "name": "python",
   "nbconvert_exporter": "python",
   "pygments_lexer": "ipython3",
   "version": "3.8.18"
  }
 },
 "nbformat": 4,
 "nbformat_minor": 2
}
