{
 "cells": [
  {
   "cell_type": "code",
   "execution_count": 1,
   "metadata": {},
   "outputs": [],
   "source": [
    "import numpy as np\n",
    "from matplotlib import pyplot as plt\n",
    "from IPython import display\n",
    "\n",
    "np.random.seed(0)\n",
    "\n",
    "import torch\n",
    "\n",
    "import os\n",
    "# which folder\n",
    "# find the next available folder\n",
    "def get_latest_folder(base_name):\n",
    "    index = 1\n",
    "    while True:\n",
    "        folder = f\"{base_name}_{index}\"\n",
    "        if not os.path.exists(folder):\n",
    "            folder = f\"{base_name}_{index-1}\"\n",
    "            return folder\n",
    "        index += 1\n",
    "folder = get_latest_folder(\"world\")\n",
    "# Function to get the next available filename\n",
    "def get_next_filename(base_name, extension):\n",
    "    index = 1\n",
    "    while True:\n",
    "        filename = f\"{base_name}_{index}.{extension}\"\n",
    "        if not os.path.exists(filename):\n",
    "            return filename\n",
    "        index += 1"
   ]
  },
  {
   "cell_type": "code",
   "execution_count": 2,
   "metadata": {},
   "outputs": [
    {
     "data": {
      "image/png": "[encoded data removed]",
      "text/plain": [
       "<Figure size 500x500 with 1 Axes>"
      ]
     },
     "metadata": {},
     "output_type": "display_data"
    }
   ],
   "source": [
    "from grid_env import GridEnv\n",
    "env = GridEnv(sparse=True)\n",
    "env.plot()"
   ]
  },
  {
   "cell_type": "code",
   "execution_count": 3,
   "metadata": {},
   "outputs": [
    {
     "name": "stdout",
     "output_type": "stream",
     "text": [
      "The shape of the state pairs are: \n",
      "torch.Size([1000000, 2, 2])\n",
      "Example of a state pair: tensor([[ 3., 17.],\n",
      "        [ 3., 14.]])\n",
      "\n",
      "The shape of the preferences are: \n",
      "torch.Size([1000000, 1])\n",
      "The preferences are: tensor([[0.],\n",
      "        [0.],\n",
      "        [1.],\n",
      "        ...,\n",
      "        [0.],\n",
      "        [0.],\n",
      "        [1.]])\n"
     ]
    },
    {
     "data": {
      "image/png": "[encoded data removed]",
      "text/plain": [
       "<Figure size 2000x500 with 5 Axes>"
      ]
     },
     "metadata": {},
     "output_type": "display_data"
    }
   ],
   "source": [
    "# load the state_pairs and preferences.pt\n",
    "state_pairs = torch.load(f'{folder}/state_pairs.pt')\n",
    "preferences = torch.load(f'{folder}/preferences.pt')\n",
    "\n",
    "print(\"The shape of the state pairs are: \\n\" + str(state_pairs.size()))\n",
    "print(\"Example of a state pair: \" + str(state_pairs[0]))\n",
    "print(\"\")\n",
    "print(\"The shape of the preferences are: \\n\" + str(preferences.size()))\n",
    "print(\"The preferences are: \" + str(preferences))\n",
    "\n",
    "num_pairs = state_pairs.size()[0]\n",
    "# select 5 random pairs of states, and colour the state that is prefered in green\n",
    "num_plot = 5\n",
    "# create subplots\n",
    "fig, axs = plt.subplots(1, num_plot, figsize=(20,5))\n",
    "# plot each state pair\n",
    "for i in range(num_plot):\n",
    "    # randomly choose a state pair\n",
    "    idx = np.random.randint(num_pairs)\n",
    "    s1 = state_pairs[idx,0,:]\n",
    "    s2 = state_pairs[idx,1,:]\n",
    "    p = preferences[idx,0]\n",
    "    # plot the first state\n",
    "    axs[i].imshow(env.occ_map.T, origin=\"lower\",extent=[0,env.N,0,env.N], cmap='gray')\n",
    "    axs[i].plot(env.xl+0.5,env.yl+0.5,'gx') # goal location\n",
    "    axs[i].plot(s1[0]+0.5,s1[1]+0.5,'bo')\n",
    "    # plot the second state\n",
    "    axs[i].plot(s2[0]+0.5,s2[1]+0.5,'bo')\n",
    "    # plot the prefered state in green\n",
    "    if p == 0:\n",
    "        axs[i].plot(s1[0]+0.5,s1[1]+0.5,'go', label='prefered state')\n",
    "    else:\n",
    "        axs[i].plot(s2[0]+0.5,s2[1]+0.5,'go', label='prefered state')\n",
    "    # finish up the rest of the plot settings\n",
    "    axs[i].legend()\n",
    "    axs[i].axis('off')"
   ]
  },
  {
   "cell_type": "code",
   "execution_count": 4,
   "metadata": {},
   "outputs": [],
   "source": [
    "# create dataset\n",
    "from torch.utils.data import DataLoader\n",
    "from torch.utils.data.dataset import Dataset\n",
    "\n",
    "class PreferenceDataset(Dataset):\n",
    "    def __init__(self, state_pairs, preferences):\n",
    "        self.state_pairs = state_pairs\n",
    "        self.preferences = preferences\n",
    "\n",
    "    def __getitem__(self, index):\n",
    "        return self.state_pairs[index], self.preferences[index]\n",
    "\n",
    "    def __len__(self):\n",
    "        return len(self.state_pairs)"
   ]
  },
  {
   "cell_type": "code",
   "execution_count": 5,
   "metadata": {},
   "outputs": [
    {
     "name": "stdout",
     "output_type": "stream",
     "text": [
      "The shape of the input batch: torch.Size([200, 2, 2])\n",
      "The shape of the batch labels: torch.Size([200, 1])\n"
     ]
    }
   ],
   "source": [
    "dataset = PreferenceDataset(state_pairs, preferences)\n",
    "# split the dataset into train, validation and test\n",
    "train_size = int(0.7 * len(dataset))\n",
    "val_size = int(0.2 * len(dataset))\n",
    "test_size = len(dataset) - train_size - val_size\n",
    "train_set, val_set, test_set = torch.utils.data.random_split(dataset, [train_size, val_size, test_size])\n",
    "# create dataloaders\n",
    "batch_size = 200\n",
    "train_loader = DataLoader(train_set, batch_size=batch_size, shuffle=True)\n",
    "val_loader = DataLoader(val_set, batch_size=batch_size, shuffle=True)\n",
    "test_loader = DataLoader(test_set, batch_size=batch_size, shuffle=True)\n",
    "\n",
    "# print the shapes of batches from dataloaders\n",
    "batch = next(iter(train_loader))\n",
    "print(\"The shape of the input batch: \" + str(batch[0].shape))\n",
    "print(\"The shape of the batch labels: \" + str(batch[1].shape))"
   ]
  },
  {
   "cell_type": "code",
   "execution_count": 6,
   "metadata": {},
   "outputs": [],
   "source": [
    "import torch.nn as nn\n",
    "import torch.nn.functional as F\n",
    "import torch.optim\n",
    "\n",
    "# create a preference learning model\n",
    "class PreferenceModel(nn.Module):\n",
    "    def __init__(self):\n",
    "        super(PreferenceModel, self).__init__()\n",
    "        self.fc = nn.Sequential(\n",
    "            nn.Linear(2, 20),\n",
    "            nn.Sigmoid(),\n",
    "            nn.Linear(20, 20),\n",
    "            nn.Sigmoid(),\n",
    "            nn.Linear(20, 1),\n",
    "        )\n",
    "        self.sigmoid = nn.Sigmoid()\n",
    "        self.relu = nn.LeakyReLU()\n",
    "    \n",
    "    def forward(self, x):\n",
    "        # apply the linear layers to each state in the state pair\n",
    "        #print(x[:,0].shape)\n",
    "        x1 = self.fc(x[:, 0])\n",
    "        x1 = torch.exp(x1)\n",
    "        t_left_1 = x1[:, 0].unsqueeze(1)\n",
    "        x2 = self.fc(x[:, 1])\n",
    "        x2 = torch.exp(x2)\n",
    "        t_left_2 = x2[:, 0].unsqueeze(1)\n",
    "        return self.sigmoid(t_left_1 - t_left_2)\n",
    "    \n",
    "    def predict_time_to_goal(self, x):\n",
    "        t = self.fc(x)\n",
    "        t = torch.exp(t)\n",
    "        t = t[:, 0].unsqueeze(1)\n",
    "        return t\n",
    "    \n",
    "# training step\n",
    "def training_step(input_batch, target_batch, model, optimizer, loss_fn):\n",
    "    preds = model(input_batch) # forward pass\n",
    "    loss = loss_fn(preds, target_batch) # find loss\n",
    "    optimizer.zero_grad() # clear gradients in the optimiser\n",
    "    loss.backward() # back prop\n",
    "    optimizer.step() # gradient descend\n",
    "    return loss.item() # return loss\n",
    "\n",
    "# validation step\n",
    "def validation_step(input_batch, target_batch, model, loss_fn):\n",
    "    preds = model(input_batch) # forward pass\n",
    "    loss = loss_fn(preds, target_batch) # find loss\n",
    "    return loss.item()"
   ]
  },
  {
   "cell_type": "code",
   "execution_count": 7,
   "metadata": {},
   "outputs": [],
   "source": [
    "# instantiate\n",
    "model = PreferenceModel()\n",
    "\n",
    "optimizer = torch.optim.SGD(model.parameters(), lr=0.01)\n",
    "\n",
    "def loss_fn(preds, target):\n",
    "    return F.binary_cross_entropy(preds, target)\n",
    "\n",
    "num_epochs = 100"
   ]
  },
  {
   "cell_type": "code",
   "execution_count": 8,
   "metadata": {},
   "outputs": [
    {
     "name": "stdout",
     "output_type": "stream",
     "text": [
      "Epoch: 1/100, Train Loss: 0.5943, Val Loss: 0.2751\n",
      "Epoch: 2/100, Train Loss: 0.2221, Val Loss: 0.1488\n",
      "Epoch: 3/100, Train Loss: 0.2001, Val Loss: 0.1865\n",
      "Epoch: 4/100, Train Loss: 0.1879, Val Loss: 0.1573\n",
      "Epoch: 5/100, Train Loss: 0.1974, Val Loss: 0.1731\n",
      "Epoch: 6/100, Train Loss: 0.1737, Val Loss: 0.1612\n",
      "Epoch: 7/100, Train Loss: 0.1830, Val Loss: 0.1754\n",
      "Epoch: 8/100, Train Loss: 0.1893, Val Loss: 0.2058\n",
      "Epoch: 9/100, Train Loss: 0.2044, Val Loss: 0.1950\n",
      "Epoch: 10/100, Train Loss: 0.2393, Val Loss: 0.2611\n",
      "Epoch: 11/100, Train Loss: 0.3160, Val Loss: 0.2757\n",
      "Epoch: 12/100, Train Loss: 0.2937, Val Loss: 0.4539\n"
     ]
    }
   ],
   "source": [
    "# if the models folder doesn't exist, create one\n",
    "if not os.path.exists(f'{folder}/models'):\n",
    "    os.makedirs(f'{folder}/models')\n",
    "#base_filename = f'{folder}/models/best_model'\n",
    "#file_extension = 'pt'\n",
    "#next_filename = get_next_filename(base_filename, file_extension)\n",
    "best_model_filename = f'{folder}/models/best_model.pt'\n",
    "last_model_filename = f'{folder}/models/last_model.pt'\n",
    "\n",
    "# train\n",
    "train_losses = []\n",
    "val_losses = []\n",
    "min_val_loss = float('inf')\n",
    "early_stop_counter = 0\n",
    "patience = 20\n",
    "\n",
    "for epoch in range(num_epochs):\n",
    "    train_loss = 0.0\n",
    "    val_loss = 0.0\n",
    "    \n",
    "    # training\n",
    "    model.train()\n",
    "    for input_batch, target_batch in train_loader:\n",
    "        train_loss += training_step(input_batch, target_batch, model, optimizer, loss_fn)\n",
    "    # validation\n",
    "    model.eval()\n",
    "    for input_batch, target_batch in val_loader:\n",
    "        val_loss += validation_step(input_batch, target_batch, model, loss_fn)\n",
    "        \n",
    "    # normalise the losses\n",
    "    train_loss /= len(train_loader)\n",
    "    val_loss /= len(val_loader)\n",
    "    \n",
    "    # Check if validation loss has decreased\n",
    "    if val_loss < min_val_loss:\n",
    "        min_val_loss = val_loss\n",
    "        # Save the model state\n",
    "        torch.save(model.state_dict(), best_model_filename)\n",
    "        # clear early stop counter\n",
    "        early_stop_counter = 0\n",
    "    else:\n",
    "        early_stop_counter += 1\n",
    "        if early_stop_counter >= patience:\n",
    "            print(f'Early stopping at epoch {epoch+1}')\n",
    "            break\n",
    "    torch.save(model.state_dict(), last_model_filename)\n",
    "    # append the losses\n",
    "    train_losses.append(train_loss)\n",
    "    val_losses.append(val_loss)\n",
    "    # print the losses every 10 epoch\n",
    "    #if epoch % 10 == 0:\n",
    "    print(f\"Epoch: {epoch+1}/{num_epochs}, Train Loss: {train_loss:.4f}, Val Loss: {val_loss:.4f}\")"
   ]
  },
  {
   "cell_type": "code",
   "execution_count": null,
   "metadata": {},
   "outputs": [],
   "source": [
    "# if the figs folder doesn't exist, create one\n",
    "if not os.path.exists(f'{folder}/figs'):\n",
    "    os.makedirs(f'{folder}/figs')\n",
    "#base_filename = f'{folder}/figs/loss'\n",
    "#file_extension = 'png'\n",
    "#next_filename = get_next_filename(base_filename, file_extension)\n",
    "next_filename = f'{folder}/figs/loss.png'\n",
    "\n",
    "# plot the losses\n",
    "plt.plot(train_losses, label='train loss')\n",
    "plt.plot(val_losses, label='val loss')  \n",
    "plt.xlabel('epoch')\n",
    "plt.ylabel('loss')\n",
    "plt.title('Losses')\n",
    "plt.legend()\n",
    "plt.savefig(next_filename)\n",
    "plt.show()"
   ]
  },
  {
   "cell_type": "code",
   "execution_count": null,
   "metadata": {},
   "outputs": [],
   "source": [
    "# plot the predictions over a 2D grid \n",
    "def plot_predictions(model, env):\n",
    "    # create a 2D grid\n",
    "    x = np.linspace(0, env.N-1, env.N)\n",
    "    y = np.linspace(0, env.N-1, env.N)\n",
    "    Y, X = np.meshgrid(x, y)\n",
    "    \n",
    "    # create a tensor of the grid\n",
    "    grid = torch.tensor(np.stack([X.flatten(), Y.flatten()], axis=1), dtype=torch.float)\n",
    "    # get the predictions\n",
    "    preds = model.predict_time_to_goal(grid).detach().numpy()\n",
    "    #print(preds)\n",
    "    # reshape the predictions\n",
    "    preds = preds.reshape(env.N, env.N)\n",
    "    rewards = preds / np.linalg.norm(preds)\n",
    "    rewards = 1 - rewards\n",
    "    # plot the predictions\n",
    "    plt.imshow(rewards.T, origin=\"lower\",extent=[0,env.N,0,env.N], cmap='gray')\n",
    "    plt.colorbar()\n",
    "    plt.plot(env.xl+0.5,env.yl+0.5,'gx') # goal location\n",
    "    plt.xlabel('x')\n",
    "    plt.ylabel('y')\n",
    "    plt.title('Predictions')\n",
    "    plt.show()\n",
    "model.eval()\n",
    "plot_predictions(model, env)"
   ]
  },
  {
   "cell_type": "code",
   "execution_count": null,
   "metadata": {},
   "outputs": [],
   "source": []
  }
 ],
 "metadata": {
  "kernelspec": {
   "display_name": "RL1",
   "language": "python",
   "name": "python3"
  },
  "language_info": {
   "codemirror_mode": {
    "name": "ipython",
    "version": 3
   },
   "file_extension": ".py",
   "mimetype": "text/x-python",
   "name": "python",
   "nbconvert_exporter": "python",
   "pygments_lexer": "ipython3",
   "version": "3.8.18"
  }
 },
 "nbformat": 4,
 "nbformat_minor": 2
}
