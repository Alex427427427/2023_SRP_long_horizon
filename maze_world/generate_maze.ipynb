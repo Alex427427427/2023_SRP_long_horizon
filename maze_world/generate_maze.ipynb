{
 "cells": [
  {
   "cell_type": "code",
   "execution_count": 1,
   "metadata": {},
   "outputs": [],
   "source": [
    "import matplotlib.pyplot as plt\n",
    "import numpy as np\n",
    "import random\n",
    "from queue import Queue\n",
    "\n",
    "# dim must be even\n",
    "def create_maze(dim):\n",
    "    # Create a grid filled with walls\n",
    "    maze = np.ones((dim, dim))\n",
    "\n",
    "    # Define the starting point\n",
    "    x, y = (0, 0)\n",
    "    maze[2*x+1, 2*y+1] = 0\n",
    "\n",
    "    # Initialize the stack with the starting point\n",
    "    stack = [(x, y)]\n",
    "    while len(stack) > 0:\n",
    "        x, y = stack[-1]\n",
    "\n",
    "        # Define possible directions\n",
    "        directions = [(0, 1), (1, 0), (0, -1), (-1, 0)]\n",
    "        random.shuffle(directions)\n",
    "\n",
    "        for dx, dy in directions:\n",
    "            nx, ny = x + dx, y + dy\n",
    "            if nx >= 0 and ny >= 0 and nx < (dim-2)/2 and ny < (dim-2)/2 and maze[2*nx+1, 2*ny+1] == 1:\n",
    "                maze[2*nx+1, 2*ny+1] = 0\n",
    "                maze[2*x+1+dx, 2*y+1+dy] = 0\n",
    "                stack.append((nx, ny))\n",
    "                break\n",
    "        else:\n",
    "            stack.pop()\n",
    "            \n",
    "    # Create an entrance and an exit\n",
    "    maze[1, 0] = 0\n",
    "    maze[-3, -2] = 0\n",
    "\n",
    "    return maze\n",
    "\n",
    "# plotting functions\n",
    "def plot(maze):\n",
    "    # add 0.5 so that the state is plotted in the middle of the grid square\n",
    "\n",
    "    plt.figure(figsize=(5,5))\n",
    "    plt.imshow(maze.T, origin=\"lower\", cmap='gray') # plot the occupancy map\n",
    "    plt.axis('off')\n",
    "    plt.show()\n",
    "\n",
    "def free_state_search(maze):\n",
    "    while True:\n",
    "        x0 = np.random.randint(maze.shape[0])\n",
    "        y0 = np.random.randint(maze.shape[1])\n",
    "        #if the location is not an obstacle, is not the goal, then break\n",
    "        obs = maze[x0,y0]\n",
    "        if (obs == 0):\n",
    "            break\n",
    "    return np.array([x0,y0])"
   ]
  },
  {
   "cell_type": "code",
   "execution_count": 2,
   "metadata": {},
   "outputs": [
    {
     "name": "stdout",
     "output_type": "stream",
     "text": [
      "20\n"
     ]
    },
    {
     "data": {
      "image/png": "[encoded data removed]",
      "text/plain": [
       "<Figure size 500x500 with 1 Axes>"
      ]
     },
     "metadata": {},
     "output_type": "display_data"
    }
   ],
   "source": [
    "maze_size = 20\n",
    "maze = create_maze(maze_size)\n",
    "print(len(maze))\n",
    "plot(maze)"
   ]
  },
  {
   "cell_type": "code",
   "execution_count": 3,
   "metadata": {},
   "outputs": [
    {
     "name": "stdout",
     "output_type": "stream",
     "text": [
      "The x, y coordinates of the goal is: (6,13)\n"
     ]
    }
   ],
   "source": [
    "goal = free_state_search(maze)\n",
    "print(f\"The x, y coordinates of the goal is: ({goal[0]},{goal[1]})\") "
   ]
  },
  {
   "cell_type": "code",
   "execution_count": 4,
   "metadata": {},
   "outputs": [],
   "source": [
    "# save the trajectory into a file\n",
    "import pickle\n",
    "import os\n",
    "# find the next available file path\n",
    "def get_next_filename(base_name, extension):\n",
    "    index = 1\n",
    "    while True:\n",
    "        filename = f\"{base_name}_{index}.{extension}\"\n",
    "        if not os.path.exists(filename):\n",
    "            return filename\n",
    "        index += 1\n",
    "\n",
    "filename = get_next_filename(\"mazes/maze_procedural\", \"png\")\n",
    "\n"
   ]
  },
  {
   "cell_type": "code",
   "execution_count": 5,
   "metadata": {},
   "outputs": [],
   "source": [
    "from PIL import Image\n",
    "\n",
    "# mark the goal as a 0.5\n",
    "maze[goal[0], goal[1]] = 0.5\n",
    "# save the maze as a png \n",
    "maze = np.rot90(maze, axes = (0, 1))\n",
    "# make 1 be black, 0 be white. Black - low intensity in png, is represented with a 0. where as white is represetned with 255. \n",
    "maze = 1 - maze\n",
    "\n",
    "# turn the maze into a png, with goal as a red dot\n",
    "def binary_array_to_image(binary_array):\n",
    "    # Create a 3-channel image with the same shape as the binary array\n",
    "    height, width = binary_array.shape\n",
    "    image = np.zeros((height, width, 3), dtype=np.uint8)\n",
    "\n",
    "    # Convert 0s to black and 1s to white\n",
    "    image[binary_array == 0] = [0, 0, 0]  # Black\n",
    "    image[binary_array == 1] = [255, 255, 255]  # White\n",
    "    image[binary_array == 0.5] = [255, 0, 0]  # Red\n",
    "\n",
    "    # Create a Pillow Image object\n",
    "    image_pil = Image.fromarray(image)\n",
    "\n",
    "    return image_pil\n",
    "\n",
    "# Convert the binary array to a 3-channel image\n",
    "result_image = binary_array_to_image(maze)\n",
    "# Or save it to a file\n",
    "result_image.save(filename)"
   ]
  },
  {
   "cell_type": "code",
   "execution_count": 6,
   "metadata": {},
   "outputs": [
    {
     "name": "stdout",
     "output_type": "stream",
     "text": [
      "The x, y coordinates of the goal is: (6,13)\n"
     ]
    }
   ],
   "source": [
    "# extract the location of the goal\n",
    "def find_goal_location(image_path):\n",
    "    # Open the image\n",
    "    img = plt.imread(image_path)\n",
    "\n",
    "    # Get the width and height of the image\n",
    "    height, width, channels = img.shape\n",
    "\n",
    "    # Iterate through each pixel to find the red pixel\n",
    "    for x in range(height):\n",
    "        for y in range(width):\n",
    "            # Get the RGB values of the pixel\n",
    "            rgb = img[x, y]\n",
    "            r = rgb[0]\n",
    "            g = rgb[1]\n",
    "            b = rgb[2]\n",
    "            # Check if it's a red pixel (adjust the threshold based on your image)\n",
    "            if r > 0.7 and g < 0.3 and b < 0.3:\n",
    "                return (y, height - 1 - x)\n",
    "            \n",
    "goal_tuple = find_goal_location(filename)\n",
    "print(f\"The x, y coordinates of the goal is: ({goal_tuple[0]},{goal_tuple[1]})\")"
   ]
  },
  {
   "cell_type": "code",
   "execution_count": null,
   "metadata": {},
   "outputs": [],
   "source": []
  }
 ],
 "metadata": {
  "kernelspec": {
   "display_name": "RL1",
   "language": "python",
   "name": "python3"
  },
  "language_info": {
   "codemirror_mode": {
    "name": "ipython",
    "version": 3
   },
   "file_extension": ".py",
   "mimetype": "text/x-python",
   "name": "python",
   "nbconvert_exporter": "python",
   "pygments_lexer": "ipython3",
   "version": "3.8.18"
  }
 },
 "nbformat": 4,
 "nbformat_minor": 2
}
