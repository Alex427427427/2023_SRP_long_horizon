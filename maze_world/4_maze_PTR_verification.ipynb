{
 "cells": [
  {
   "cell_type": "code",
   "execution_count": null,
   "metadata": {},
   "outputs": [],
   "source": [
    "import numpy as np\n",
    "from matplotlib import pyplot as plt\n",
    "from IPython import display\n",
    "\n",
    "np.random.seed(0)\n",
    "\n",
    "import torch\n",
    "\n",
    "import os\n",
    "# which folder\n",
    "# find the next available folder\n",
    "def get_latest_folder(base_name):\n",
    "    index = 1\n",
    "    while True:\n",
    "        folder = f\"{base_name}_{index}\"\n",
    "        if not os.path.exists(folder):\n",
    "            folder = f\"{base_name}_{index-1}\"\n",
    "            return folder\n",
    "        index += 1\n",
    "folder = get_latest_folder(\"world\")\n",
    "# Function to get the next available filename\n",
    "def get_latest_filename(base_name, extension):\n",
    "    index = 1\n",
    "    while True:\n",
    "        filename = f\"{base_name}_{index}.{extension}\"\n",
    "        if not os.path.exists(filename):\n",
    "            filename = f\"{base_name}_{index-1}.{extension}\"\n",
    "            return filename\n",
    "        index += 1\n",
    "def get_next_filename(base_name, extension):\n",
    "    index = 1\n",
    "    while True:\n",
    "        filename = f\"{base_name}_{index}.{extension}\"\n",
    "        if not os.path.exists(filename):\n",
    "            return filename\n",
    "        index += 1"
   ]
  },
  {
   "cell_type": "code",
   "execution_count": null,
   "metadata": {},
   "outputs": [],
   "source": [
    "from maze_PTR_model import MazePTRModel\n",
    "model = MazePTRModel()\n",
    "checkpoint = torch.load(f\"{folder}/models/last_model.pt\")\n",
    "model.load_state_dict(checkpoint)\n",
    "model.eval()\n",
    "\n",
    "from maze_env import Maze\n",
    "env = Maze(sparse=False, model=model)\n",
    "env.plot()"
   ]
  },
  {
   "cell_type": "code",
   "execution_count": null,
   "metadata": {},
   "outputs": [],
   "source": [
    "# plot the predictions over a 2D grid \n",
    "def plot_predictions(model, env):\n",
    "    # create a 2D grid\n",
    "    x = np.linspace(0, env.N-1, env.N)\n",
    "    y = np.linspace(0, env.N-1, env.N)\n",
    "    Y, X = np.meshgrid(x, y)\n",
    "    \n",
    "    # create a tensor of the grid\n",
    "    grid = torch.tensor(np.stack([X.flatten(), Y.flatten()], axis=1), dtype=torch.float)\n",
    "    # get the predictions\n",
    "    preds = model.predict_time_to_goal(grid).detach().numpy()\n",
    "    #print(preds)\n",
    "    # reshape the predictions\n",
    "    preds = preds.reshape(env.N, env.N)\n",
    "    rewards = preds / np.linalg.norm(preds)\n",
    "    rewards = 1 - rewards\n",
    "    # plot the predictions\n",
    "    plt.imshow(rewards.T, origin=\"lower\",extent=[0,env.N,0,env.N], cmap='gray')\n",
    "    plt.colorbar()\n",
    "    plt.plot(env.xl+0.5,env.yl+0.5,'gx') # goal location\n",
    "    plt.xlabel('x')\n",
    "    plt.ylabel('y')\n",
    "    plt.title('Predictions')\n",
    "    plt.show()\n",
    "plot_predictions(model, env)"
   ]
  },
  {
   "cell_type": "code",
   "execution_count": null,
   "metadata": {},
   "outputs": [],
   "source": [
    "# clear the gifs folder content\n",
    "import glob\n",
    "#for f in glob.glob(f\"gifs/*\"):\n",
    "#    os.remove(f)\n",
    "\n",
    "# test value iteration on the grid\n",
    "#Create new env with estimated reward and train agent\n",
    "new_env = Maze(sparse=False, model=model, move_penalty=0.1, collision_penalty=1.0)\n",
    "newQ = new_env.value_iteration(num_eps=1000, ep_length=500,alpha=0.5,gamma=0.99,final_greediness=0.5,eps_anneal=True,disp=True,\n",
    "                               plot_freq=1000, reward_shrink=10, shrink_freq=100, save_folder=\"gif_image_buffer\")"
   ]
  },
  {
   "cell_type": "code",
   "execution_count": null,
   "metadata": {},
   "outputs": [],
   "source": [
    "image_files = []\n",
    "# append filenames continually until we have all of them\n",
    "index = 0\n",
    "while True:\n",
    "    filename = f\"gif_image_buffer/img_{index}.png\"\n",
    "    if not os.path.exists(filename):\n",
    "        break\n",
    "    image_files.append(filename)\n",
    "    index += 1\n",
    "\n",
    "import imageio\n",
    "images = []\n",
    "# the first image is corrupt\n",
    "for i in range(1, len(image_files)):\n",
    "    filename = image_files[i]\n",
    "    images.append(imageio.imread(filename))\n",
    "# get next output file name\n",
    "output_file = get_next_filename(f\"{folder}/output\", \"gif\")\n",
    "imageio.mimsave(output_file, images)\n",
    "\n",
    "# clear the gifs folder\n",
    "for filename in image_files:\n",
    "    os.remove(filename)"
   ]
  },
  {
   "cell_type": "code",
   "execution_count": null,
   "metadata": {},
   "outputs": [],
   "source": [
    "# Test agent on original world\n",
    "test_env = Maze(sparse=False, model=model, move_penalty=0.0, collision_penalty=1.0)\n",
    "rsum,traj = test_env.test_value(newQ,steps=300,disp=True, greediness=0.6\n",
    "                                )"
   ]
  },
  {
   "cell_type": "code",
   "execution_count": null,
   "metadata": {},
   "outputs": [],
   "source": []
  }
 ],
 "metadata": {
  "kernelspec": {
   "display_name": "RL1",
   "language": "python",
   "name": "python3"
  },
  "language_info": {
   "codemirror_mode": {
    "name": "ipython",
    "version": 3
   },
   "file_extension": ".py",
   "mimetype": "text/x-python",
   "name": "python",
   "nbconvert_exporter": "python",
   "pygments_lexer": "ipython3",
   "version": "3.8.18"
  }
 },
 "nbformat": 4,
 "nbformat_minor": 2
}
