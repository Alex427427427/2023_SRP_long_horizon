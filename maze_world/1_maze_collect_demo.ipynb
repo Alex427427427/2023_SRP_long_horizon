{
 "cells": [
  {
   "cell_type": "code",
   "execution_count": null,
   "metadata": {},
   "outputs": [],
   "source": [
    "import numpy as np\n",
    "from matplotlib import pyplot as plt\n",
    "from IPython import display\n",
    "\n",
    "np.random.seed(0)\n",
    "\n",
    "# save the trajectory into a file\n",
    "import pickle\n",
    "import os\n",
    "# find the next available file path\n",
    "def get_next_filename(base_name, extension):\n",
    "    index = 1\n",
    "    while True:\n",
    "        filename = f\"{base_name}_{index}.{extension}\"\n",
    "        if not os.path.exists(filename):\n",
    "            return filename\n",
    "        index += 1\n",
    "\n",
    "# find the next available folder\n",
    "def get_next_folder(base_name):\n",
    "    index = 1\n",
    "    while True:\n",
    "        folder = f\"{base_name}_{index}\"\n",
    "        if not os.path.exists(folder):\n",
    "            return folder\n",
    "        index += 1\n",
    "\n",
    "# create a folder called world\n",
    "folder = get_next_folder(\"world\")\n",
    "os.mkdir(folder)"
   ]
  },
  {
   "cell_type": "code",
   "execution_count": null,
   "metadata": {},
   "outputs": [],
   "source": [
    "from maze_env import Maze\n",
    "env = Maze(sparse=True)\n",
    "env.plot()"
   ]
  },
  {
   "cell_type": "code",
   "execution_count": null,
   "metadata": {},
   "outputs": [],
   "source": [
    "#Create new env with estimated reward and train agent\n",
    "new_env = Maze()\n",
    "Q = new_env.train_Q_1_epoch(episodes=2000, episode_length=1000, use_start_zone=False, alpha=0.5,gamma=0.99,final_greediness=0.5,eps_anneal=True,disp=True,plot_freq=10)"
   ]
  },
  {
   "cell_type": "code",
   "execution_count": null,
   "metadata": {},
   "outputs": [],
   "source": [
    "Q = new_env.train_Q_1_epoch(episodes=2000, episode_length=1000, use_start_zone=False, alpha=0.5,gamma=0.99,final_greediness=0.5,eps_anneal=True,disp=True,plot_freq=10)"
   ]
  },
  {
   "cell_type": "code",
   "execution_count": null,
   "metadata": {},
   "outputs": [],
   "source": [
    "# save the new Q as a pickle file\n",
    "filename1 = f\"{folder}/Q_table.pkl\"\n",
    "with open(filename1, \"wb\") as f:\n",
    "    pickle.dump(Q, f)"
   ]
  },
  {
   "cell_type": "code",
   "execution_count": null,
   "metadata": {},
   "outputs": [],
   "source": [
    "# Test agent on original world\n",
    "traj = new_env.test_Q_once(Q,episode_length=200,disp=True, final_greediness=0.9, eps_anneal=False, use_start_zone=True)"
   ]
  },
  {
   "cell_type": "code",
   "execution_count": null,
   "metadata": {},
   "outputs": [],
   "source": [
    "# collect trajectories from 150 episodes\n",
    "trajs = []\n",
    "for i in range(1000):\n",
    "    traj, _ = new_env.test_Q_once(Q,episode_length=400,disp=False, final_greediness=0.9, eps_anneal=False, use_start_zone=False)\n",
    "    trajs.append(np.vstack(traj))\n",
    "trajs = np.array(trajs,dtype=object)"
   ]
  },
  {
   "cell_type": "code",
   "execution_count": null,
   "metadata": {},
   "outputs": [],
   "source": [
    "Q_image = np.max(Q,axis=1).reshape(env.Nx,env.Ny).T\n",
    "\n",
    "num_plot = 5\n",
    "fig, axs = plt.subplots(1, num_plot, figsize=(20,5))\n",
    "# plot each state pair\n",
    "for i in range(num_plot):\n",
    "    # plot the first state\n",
    "    axs[i].imshow(env.occ_map.T, origin=\"lower\",extent=[0,env.Nx,0,env.Ny], cmap='gray')\n",
    "    axs[i].plot(env.gx+0.5,env.gy+0.5,'gx') # goal location\n",
    "    axs[i].plot(trajs[i][:,0]+0.5,trajs[i][:,1]+0.5, '-o',label=f'trajectory {i+1}')\n",
    "    # finish up the rest of the plot settings\n",
    "    axs[i].legend()\n",
    "    axs[i].axis('off')\n",
    "plt.show()"
   ]
  },
  {
   "cell_type": "code",
   "execution_count": null,
   "metadata": {},
   "outputs": [],
   "source": [
    "\n",
    "# save the trajectories into that folder\n",
    "filename = f\"{folder}/trajs.pkl\"\n",
    "# save the trajectories into that folder\n",
    "with open(filename, \"wb\") as f:\n",
    "    pickle.dump(trajs, f)\n"
   ]
  },
  {
   "cell_type": "code",
   "execution_count": null,
   "metadata": {},
   "outputs": [],
   "source": []
  }
 ],
 "metadata": {
  "kernelspec": {
   "display_name": "RL1",
   "language": "python",
   "name": "python3"
  },
  "language_info": {
   "codemirror_mode": {
    "name": "ipython",
    "version": 3
   },
   "file_extension": ".py",
   "mimetype": "text/x-python",
   "name": "python",
   "nbconvert_exporter": "python",
   "pygments_lexer": "ipython3",
   "version": "3.8.18"
  }
 },
 "nbformat": 4,
 "nbformat_minor": 2
}
