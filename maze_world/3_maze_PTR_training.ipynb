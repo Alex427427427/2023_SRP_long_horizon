{
 "cells": [
  {
   "cell_type": "code",
   "execution_count": 1,
   "metadata": {},
   "outputs": [],
   "source": [
    "import numpy as np\n",
    "from matplotlib import pyplot as plt\n",
    "from IPython import display\n",
    "\n",
    "np.random.seed(0)\n",
    "\n",
    "import torch\n",
    "\n",
    "import os\n",
    "# which folder\n",
    "# find the next available folder\n",
    "def get_latest_folder(base_name):\n",
    "    index = 1\n",
    "    while True:\n",
    "        folder = f\"{base_name}_{index}\"\n",
    "        if not os.path.exists(folder):\n",
    "            folder = f\"{base_name}_{index-1}\"\n",
    "            return folder\n",
    "        index += 1\n",
    "folder = get_latest_folder(\"world\")\n",
    "# Function to get the next available filename\n",
    "def get_next_filename(base_name, extension):\n",
    "    index = 1\n",
    "    while True:\n",
    "        filename = f\"{base_name}_{index}.{extension}\"\n",
    "        if not os.path.exists(filename):\n",
    "            return filename\n",
    "        index += 1"
   ]
  },
  {
   "cell_type": "code",
   "execution_count": 2,
   "metadata": {},
   "outputs": [
    {
     "data": {
      "image/png": "[encoded data removed]",
      "text/plain": [
       "<Figure size 500x500 with 1 Axes>"
      ]
     },
     "metadata": {},
     "output_type": "display_data"
    }
   ],
   "source": [
    "from grid_env import GridEnv\n",
    "env = GridEnv(sparse=True)\n",
    "env.plot()"
   ]
  },
  {
   "cell_type": "code",
   "execution_count": 3,
   "metadata": {},
   "outputs": [
    {
     "name": "stdout",
     "output_type": "stream",
     "text": [
      "The shape of the state pairs are: \n",
      "torch.Size([1000000, 2, 2])\n",
      "Example of a state pair: tensor([[11., 17.],\n",
      "        [ 9., 14.]])\n",
      "\n",
      "The shape of the preferences are: \n",
      "torch.Size([1000000, 1])\n",
      "The preferences are: tensor([[1.],\n",
      "        [0.],\n",
      "        [0.],\n",
      "        ...,\n",
      "        [0.],\n",
      "        [0.],\n",
      "        [0.]])\n"
     ]
    },
    {
     "data": {
      "image/png": "[encoded data removed]",
      "text/plain": [
       "<Figure size 2000x500 with 5 Axes>"
      ]
     },
     "metadata": {},
     "output_type": "display_data"
    }
   ],
   "source": [
    "# load the state_pairs and preferences.pt\n",
    "state_pairs = torch.load(f'{folder}/state_pairs.pt')\n",
    "preferences = torch.load(f'{folder}/preferences.pt')\n",
    "\n",
    "print(\"The shape of the state pairs are: \\n\" + str(state_pairs.size()))\n",
    "print(\"Example of a state pair: \" + str(state_pairs[0]))\n",
    "print(\"\")\n",
    "print(\"The shape of the preferences are: \\n\" + str(preferences.size()))\n",
    "print(\"The preferences are: \" + str(preferences))\n",
    "\n",
    "num_pairs = state_pairs.size()[0]\n",
    "# select 5 random pairs of states, and colour the state that is prefered in green\n",
    "num_plot = 5\n",
    "# create subplots\n",
    "fig, axs = plt.subplots(1, num_plot, figsize=(20,5))\n",
    "# plot each state pair\n",
    "for i in range(num_plot):\n",
    "    # randomly choose a state pair\n",
    "    idx = np.random.randint(num_pairs)\n",
    "    s1 = state_pairs[idx,0,:]\n",
    "    s2 = state_pairs[idx,1,:]\n",
    "    p = preferences[idx,0]\n",
    "    # plot the first state\n",
    "    axs[i].imshow(env.occ_map.T, origin=\"lower\",extent=[0,env.N,0,env.N], cmap='gray')\n",
    "    axs[i].plot(env.xl+0.5,env.yl+0.5,'gx') # goal location\n",
    "    axs[i].plot(s1[0]+0.5,s1[1]+0.5,'bo')\n",
    "    # plot the second state\n",
    "    axs[i].plot(s2[0]+0.5,s2[1]+0.5,'bo')\n",
    "    # plot the prefered state in green\n",
    "    if p == 0:\n",
    "        axs[i].plot(s1[0]+0.5,s1[1]+0.5,'go', label='prefered state')\n",
    "    else:\n",
    "        axs[i].plot(s2[0]+0.5,s2[1]+0.5,'go', label='prefered state')\n",
    "    # finish up the rest of the plot settings\n",
    "    axs[i].legend()\n",
    "    axs[i].axis('off')"
   ]
  },
  {
   "cell_type": "code",
   "execution_count": 4,
   "metadata": {},
   "outputs": [],
   "source": [
    "# create dataset\n",
    "from torch.utils.data import DataLoader\n",
    "from torch.utils.data.dataset import Dataset\n",
    "\n",
    "class PreferenceDataset(Dataset):\n",
    "    def __init__(self, state_pairs, preferences):\n",
    "        self.state_pairs = state_pairs\n",
    "        self.preferences = preferences\n",
    "\n",
    "    def __getitem__(self, index):\n",
    "        return self.state_pairs[index], self.preferences[index]\n",
    "\n",
    "    def __len__(self):\n",
    "        return len(self.state_pairs)"
   ]
  },
  {
   "cell_type": "code",
   "execution_count": 5,
   "metadata": {},
   "outputs": [
    {
     "name": "stdout",
     "output_type": "stream",
     "text": [
      "The shape of the input batch: torch.Size([100, 2, 2])\n",
      "The shape of the batch labels: torch.Size([100, 1])\n"
     ]
    }
   ],
   "source": [
    "dataset = PreferenceDataset(state_pairs, preferences)\n",
    "# split the dataset into train, validation and test\n",
    "train_size = int(0.5 * len(dataset))\n",
    "val_size = int(0.4 * len(dataset))\n",
    "test_size = len(dataset) - train_size - val_size\n",
    "train_set, val_set, test_set = torch.utils.data.random_split(dataset, [train_size, val_size, test_size])\n",
    "# create dataloaders\n",
    "batch_size = 100\n",
    "train_loader = DataLoader(train_set, batch_size=batch_size, shuffle=True)\n",
    "val_loader = DataLoader(val_set, batch_size=batch_size, shuffle=True)\n",
    "test_loader = DataLoader(test_set, batch_size=batch_size, shuffle=True)\n",
    "\n",
    "# print the shapes of batches from dataloaders\n",
    "batch = next(iter(train_loader))\n",
    "print(\"The shape of the input batch: \" + str(batch[0].shape))\n",
    "print(\"The shape of the batch labels: \" + str(batch[1].shape))"
   ]
  },
  {
   "cell_type": "code",
   "execution_count": 6,
   "metadata": {},
   "outputs": [],
   "source": [
    "import torch.nn as nn\n",
    "import torch.nn.functional as F\n",
    "import torch.optim\n",
    "\n",
    "# create a preference learning model\n",
    "from grid_PTR_model import GridPTRModel\n",
    "    \n",
    "# training step\n",
    "def training_step(input_batch, target_batch, model, optimizer, loss_fn):\n",
    "    preds = model(input_batch) # forward pass\n",
    "    loss = loss_fn(preds, target_batch) # find loss\n",
    "    optimizer.zero_grad() # clear gradients in the optimiser\n",
    "    loss.backward() # back prop\n",
    "    optimizer.step() # gradient descend\n",
    "    return loss.item() # return loss\n",
    "\n",
    "# validation step\n",
    "def validation_step(input_batch, target_batch, model, loss_fn):\n",
    "    preds = model(input_batch) # forward pass\n",
    "    loss = loss_fn(preds, target_batch) # find loss\n",
    "    return loss.item()"
   ]
  },
  {
   "cell_type": "code",
   "execution_count": 7,
   "metadata": {},
   "outputs": [],
   "source": [
    "# instantiate\n",
    "model = GridPTRModel()\n",
    "\n",
    "optimizer = torch.optim.SGD(model.parameters(), lr=0.01)\n",
    "\n",
    "def loss_fn(preds, target):\n",
    "    return F.binary_cross_entropy(preds, target)\n",
    "\n",
    "num_epochs = 100"
   ]
  },
  {
   "cell_type": "code",
   "execution_count": 8,
   "metadata": {},
   "outputs": [
    {
     "name": "stdout",
     "output_type": "stream",
     "text": [
      "Epoch: 1/100, Train Loss: 0.6929, Val Loss: 0.6926\n",
      "Epoch: 2/100, Train Loss: 0.6920, Val Loss: 0.6911\n",
      "Epoch: 3/100, Train Loss: 0.6892, Val Loss: 0.6858\n",
      "Epoch: 4/100, Train Loss: 0.6744, Val Loss: 0.6535\n",
      "Epoch: 5/100, Train Loss: 0.6216, Val Loss: 0.5938\n",
      "Epoch: 6/100, Train Loss: 0.5716, Val Loss: 0.5495\n",
      "Epoch: 7/100, Train Loss: 0.5338, Val Loss: 0.5172\n",
      "Epoch: 8/100, Train Loss: 0.5018, Val Loss: 0.4844\n",
      "Epoch: 9/100, Train Loss: 0.4617, Val Loss: 0.4342\n",
      "Epoch: 10/100, Train Loss: 0.4034, Val Loss: 0.3719\n",
      "Epoch: 11/100, Train Loss: 0.3439, Val Loss: 0.3172\n",
      "Epoch: 12/100, Train Loss: 0.2963, Val Loss: 0.2744\n",
      "Epoch: 13/100, Train Loss: 0.2584, Val Loss: 0.2400\n",
      "Epoch: 14/100, Train Loss: 0.2271, Val Loss: 0.2112\n",
      "Epoch: 15/100, Train Loss: 0.2006, Val Loss: 0.1967\n",
      "Epoch: 16/100, Train Loss: 0.1773, Val Loss: 0.1673\n",
      "Epoch: 17/100, Train Loss: 0.1570, Val Loss: 0.1548\n",
      "Epoch: 18/100, Train Loss: 0.1396, Val Loss: 0.1316\n",
      "Epoch: 19/100, Train Loss: 0.1246, Val Loss: 0.1157\n",
      "Epoch: 20/100, Train Loss: 0.1120, Val Loss: 0.1046\n",
      "Epoch: 21/100, Train Loss: 0.1015, Val Loss: 0.0955\n",
      "Epoch: 22/100, Train Loss: 0.0924, Val Loss: 0.0873\n",
      "Epoch: 23/100, Train Loss: 0.0851, Val Loss: 0.0867\n",
      "Epoch: 24/100, Train Loss: 0.0786, Val Loss: 0.0739\n",
      "Epoch: 25/100, Train Loss: 0.0731, Val Loss: 0.0710\n",
      "Epoch: 26/100, Train Loss: 0.0685, Val Loss: 0.0662\n",
      "Epoch: 27/100, Train Loss: 0.0643, Val Loss: 0.0667\n",
      "Epoch: 28/100, Train Loss: 0.0607, Val Loss: 0.0585\n",
      "Epoch: 29/100, Train Loss: 0.0575, Val Loss: 0.0544\n",
      "Epoch: 30/100, Train Loss: 0.0546, Val Loss: 0.0518\n",
      "Epoch: 31/100, Train Loss: 0.0518, Val Loss: 0.0494\n",
      "Epoch: 32/100, Train Loss: 0.0495, Val Loss: 0.0471\n",
      "Epoch: 33/100, Train Loss: 0.0472, Val Loss: 0.0451\n",
      "Epoch: 34/100, Train Loss: 0.0452, Val Loss: 0.0441\n",
      "Epoch: 35/100, Train Loss: 0.0434, Val Loss: 0.0441\n",
      "Epoch: 36/100, Train Loss: 0.0417, Val Loss: 0.0396\n",
      "Epoch: 37/100, Train Loss: 0.0402, Val Loss: 0.0382\n",
      "Epoch: 38/100, Train Loss: 0.0388, Val Loss: 0.0371\n",
      "Epoch: 39/100, Train Loss: 0.0375, Val Loss: 0.0360\n",
      "Epoch: 40/100, Train Loss: 0.0363, Val Loss: 0.0351\n",
      "Epoch: 41/100, Train Loss: 0.0350, Val Loss: 0.0335\n",
      "Epoch: 42/100, Train Loss: 0.0340, Val Loss: 0.0331\n",
      "Epoch: 43/100, Train Loss: 0.0330, Val Loss: 0.0319\n",
      "Epoch: 44/100, Train Loss: 0.0321, Val Loss: 0.0305\n",
      "Epoch: 45/100, Train Loss: 0.0312, Val Loss: 0.0301\n",
      "Epoch: 46/100, Train Loss: 0.0303, Val Loss: 0.0297\n",
      "Epoch: 47/100, Train Loss: 0.0295, Val Loss: 0.0290\n",
      "Epoch: 48/100, Train Loss: 0.0288, Val Loss: 0.0274\n",
      "Epoch: 49/100, Train Loss: 0.0281, Val Loss: 0.0285\n",
      "Epoch: 50/100, Train Loss: 0.0274, Val Loss: 0.0264\n",
      "Epoch: 51/100, Train Loss: 0.0267, Val Loss: 0.0258\n",
      "Epoch: 52/100, Train Loss: 0.0261, Val Loss: 0.0251\n",
      "Epoch: 53/100, Train Loss: 0.0255, Val Loss: 0.0245\n",
      "Epoch: 54/100, Train Loss: 0.0250, Val Loss: 0.0239\n",
      "Epoch: 55/100, Train Loss: 0.0245, Val Loss: 0.0235\n",
      "Epoch: 56/100, Train Loss: 0.0240, Val Loss: 0.0230\n",
      "Epoch: 57/100, Train Loss: 0.0235, Val Loss: 0.0224\n",
      "Epoch: 58/100, Train Loss: 0.0230, Val Loss: 0.0231\n",
      "Epoch: 59/100, Train Loss: 0.0226, Val Loss: 0.0216\n",
      "Epoch: 60/100, Train Loss: 0.0222, Val Loss: 0.0212\n",
      "Epoch: 61/100, Train Loss: 0.0218, Val Loss: 0.0208\n",
      "Epoch: 62/100, Train Loss: 0.0214, Val Loss: 0.0216\n",
      "Epoch: 63/100, Train Loss: 0.0210, Val Loss: 0.0204\n",
      "Epoch: 64/100, Train Loss: 0.0206, Val Loss: 0.0215\n",
      "Epoch: 65/100, Train Loss: 0.0203, Val Loss: 0.0209\n",
      "Epoch: 66/100, Train Loss: 0.0200, Val Loss: 0.0191\n",
      "Epoch: 67/100, Train Loss: 0.0197, Val Loss: 0.0192\n",
      "Epoch: 68/100, Train Loss: 0.0194, Val Loss: 0.0187\n",
      "Epoch: 69/100, Train Loss: 0.0191, Val Loss: 0.0187\n",
      "Epoch: 70/100, Train Loss: 0.0188, Val Loss: 0.0195\n",
      "Epoch: 71/100, Train Loss: 0.0185, Val Loss: 0.0179\n",
      "Epoch: 72/100, Train Loss: 0.0183, Val Loss: 0.0178\n",
      "Epoch: 73/100, Train Loss: 0.0180, Val Loss: 0.0174\n",
      "Epoch: 74/100, Train Loss: 0.0178, Val Loss: 0.0171\n",
      "Epoch: 75/100, Train Loss: 0.0175, Val Loss: 0.0169\n",
      "Epoch: 76/100, Train Loss: 0.0173, Val Loss: 0.0169\n",
      "Epoch: 77/100, Train Loss: 0.0171, Val Loss: 0.0164\n",
      "Epoch: 78/100, Train Loss: 0.0168, Val Loss: 0.0170\n",
      "Epoch: 79/100, Train Loss: 0.0166, Val Loss: 0.0165\n",
      "Epoch: 80/100, Train Loss: 0.0165, Val Loss: 0.0162\n",
      "Epoch: 81/100, Train Loss: 0.0163, Val Loss: 0.0157\n",
      "Epoch: 82/100, Train Loss: 0.0161, Val Loss: 0.0160\n",
      "Epoch: 83/100, Train Loss: 0.0159, Val Loss: 0.0156\n",
      "Epoch: 84/100, Train Loss: 0.0157, Val Loss: 0.0151\n",
      "Epoch: 85/100, Train Loss: 0.0155, Val Loss: 0.0150\n",
      "Epoch: 86/100, Train Loss: 0.0154, Val Loss: 0.0151\n",
      "Epoch: 87/100, Train Loss: 0.0152, Val Loss: 0.0150\n",
      "Epoch: 88/100, Train Loss: 0.0150, Val Loss: 0.0145\n",
      "Epoch: 89/100, Train Loss: 0.0149, Val Loss: 0.0143\n",
      "Epoch: 90/100, Train Loss: 0.0147, Val Loss: 0.0142\n",
      "Epoch: 91/100, Train Loss: 0.0146, Val Loss: 0.0142\n",
      "Epoch: 92/100, Train Loss: 0.0144, Val Loss: 0.0141\n",
      "Epoch: 93/100, Train Loss: 0.0143, Val Loss: 0.0137\n",
      "Epoch: 94/100, Train Loss: 0.0142, Val Loss: 0.0137\n",
      "Epoch: 95/100, Train Loss: 0.0140, Val Loss: 0.0144\n",
      "Epoch: 96/100, Train Loss: 0.0139, Val Loss: 0.0134\n",
      "Epoch: 97/100, Train Loss: 0.0138, Val Loss: 0.0135\n",
      "Epoch: 98/100, Train Loss: 0.0136, Val Loss: 0.0132\n",
      "Epoch: 99/100, Train Loss: 0.0135, Val Loss: 0.0130\n",
      "Epoch: 100/100, Train Loss: 0.0134, Val Loss: 0.0132\n"
     ]
    }
   ],
   "source": [
    "# if the models folder doesn't exist, create one\n",
    "if not os.path.exists(f'{folder}/models'):\n",
    "    os.makedirs(f'{folder}/models')\n",
    "#base_filename = f'{folder}/models/best_model'\n",
    "#file_extension = 'pt'\n",
    "#next_filename = get_next_filename(base_filename, file_extension)\n",
    "best_model_filename = f'{folder}/models/best_model.pt'\n",
    "last_model_filename = f'{folder}/models/last_model.pt'\n",
    "\n",
    "# train\n",
    "train_losses = []\n",
    "val_losses = []\n",
    "min_val_loss = float('inf')\n",
    "early_stop_counter = 0\n",
    "patience = 20\n",
    "\n",
    "for epoch in range(num_epochs):\n",
    "    train_loss = 0.0\n",
    "    val_loss = 0.0\n",
    "    \n",
    "    # training\n",
    "    model.train()\n",
    "    for input_batch, target_batch in train_loader:\n",
    "        train_loss += training_step(input_batch, target_batch, model, optimizer, loss_fn)\n",
    "    # validation\n",
    "    model.eval()\n",
    "    for input_batch, target_batch in val_loader:\n",
    "        val_loss += validation_step(input_batch, target_batch, model, loss_fn)\n",
    "        \n",
    "    # normalise the losses\n",
    "    train_loss /= len(train_loader)\n",
    "    val_loss /= len(val_loader)\n",
    "    \n",
    "    # Check if validation loss has decreased\n",
    "    if val_loss < min_val_loss:\n",
    "        min_val_loss = val_loss\n",
    "        # Save the model state\n",
    "        torch.save(model.state_dict(), best_model_filename)\n",
    "        # clear early stop counter\n",
    "        early_stop_counter = 0\n",
    "    else:\n",
    "        early_stop_counter += 1\n",
    "        if early_stop_counter >= patience:\n",
    "            print(f'Early stopping at epoch {epoch+1}')\n",
    "            break\n",
    "    torch.save(model.state_dict(), last_model_filename)\n",
    "    # append the losses\n",
    "    train_losses.append(train_loss)\n",
    "    val_losses.append(val_loss)\n",
    "    # print the losses every 10 epoch\n",
    "    #if epoch % 10 == 0:\n",
    "    print(f\"Epoch: {epoch+1}/{num_epochs}, Train Loss: {train_loss:.4f}, Val Loss: {val_loss:.4f}\")"
   ]
  },
  {
   "cell_type": "code",
   "execution_count": 9,
   "metadata": {},
   "outputs": [
    {
     "data": {
      "image/png": "[encoded data removed]",
      "text/plain": [
       "<Figure size 640x480 with 1 Axes>"
      ]
     },
     "metadata": {},
     "output_type": "display_data"
    }
   ],
   "source": [
    "# if the figs folder doesn't exist, create one\n",
    "if not os.path.exists(f'{folder}/figs'):\n",
    "    os.makedirs(f'{folder}/figs')\n",
    "#base_filename = f'{folder}/figs/loss'\n",
    "#file_extension = 'png'\n",
    "#next_filename = get_next_filename(base_filename, file_extension)\n",
    "next_filename = f'{folder}/figs/loss.png'\n",
    "\n",
    "# plot the losses\n",
    "plt.plot(train_losses, label='train loss')\n",
    "plt.plot(val_losses, label='val loss')  \n",
    "plt.xlabel('epoch')\n",
    "plt.ylabel('loss')\n",
    "plt.title('Losses')\n",
    "plt.legend()\n",
    "plt.savefig(next_filename)\n",
    "plt.show()"
   ]
  },
  {
   "cell_type": "code",
   "execution_count": 10,
   "metadata": {},
   "outputs": [
    {
     "data": {
      "image/png": "[encoded data removed]",
      "text/plain": [
       "<Figure size 640x480 with 2 Axes>"
      ]
     },
     "metadata": {},
     "output_type": "display_data"
    }
   ],
   "source": [
    "# plot the predictions over a 2D grid \n",
    "def plot_predictions(model, env):\n",
    "    # create a 2D grid\n",
    "    x = np.linspace(0, env.N-1, env.N)\n",
    "    y = np.linspace(0, env.N-1, env.N)\n",
    "    Y, X = np.meshgrid(x, y)\n",
    "    \n",
    "    # create a tensor of the grid\n",
    "    grid = torch.tensor(np.stack([X.flatten(), Y.flatten()], axis=1), dtype=torch.float)\n",
    "    # get the predictions\n",
    "    preds = model.predict_time_to_goal(grid).detach().numpy()\n",
    "    #print(preds)\n",
    "    # reshape the predictions\n",
    "    preds = preds.reshape(env.N, env.N)\n",
    "    rewards = preds / np.linalg.norm(preds)\n",
    "    rewards = 1 - rewards\n",
    "    # plot the predictions\n",
    "    plt.imshow(rewards.T, origin=\"lower\",extent=[0,env.N,0,env.N], cmap='gray')\n",
    "    plt.colorbar()\n",
    "    plt.plot(env.xl+0.5,env.yl+0.5,'gx') # goal location\n",
    "    plt.xlabel('x')\n",
    "    plt.ylabel('y')\n",
    "    plt.title('Predictions')\n",
    "    plt.show()\n",
    "model.eval()\n",
    "plot_predictions(model, env)"
   ]
  },
  {
   "cell_type": "code",
   "execution_count": 11,
   "metadata": {},
   "outputs": [
    {
     "name": "stdout",
     "output_type": "stream",
     "text": [
      "GridPTRModel(\n",
      "  (fc): Sequential(\n",
      "    (0): Linear(in_features=2, out_features=64, bias=True)\n",
      "    (1): Sigmoid()\n",
      "    (2): Linear(in_features=64, out_features=32, bias=True)\n",
      "    (3): Sigmoid()\n",
      "    (4): Linear(in_features=32, out_features=16, bias=True)\n",
      "    (5): Sigmoid()\n",
      "    (6): Linear(in_features=16, out_features=1, bias=True)\n",
      "  )\n",
      "  (sigmoid): Sigmoid()\n",
      "  (relu): LeakyReLU(negative_slope=0.01)\n",
      ")\n"
     ]
    }
   ],
   "source": [
    "print(model)"
   ]
  },
  {
   "cell_type": "code",
   "execution_count": null,
   "metadata": {},
   "outputs": [],
   "source": []
  }
 ],
 "metadata": {
  "kernelspec": {
   "display_name": "RL1",
   "language": "python",
   "name": "python3"
  },
  "language_info": {
   "codemirror_mode": {
    "name": "ipython",
    "version": 3
   },
   "file_extension": ".py",
   "mimetype": "text/x-python",
   "name": "python",
   "nbconvert_exporter": "python",
   "pygments_lexer": "ipython3",
   "version": "3.8.18"
  }
 },
 "nbformat": 4,
 "nbformat_minor": 2
}
