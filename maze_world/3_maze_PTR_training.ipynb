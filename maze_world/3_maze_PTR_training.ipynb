{
 "cells": [
  {
   "cell_type": "code",
   "execution_count": 1,
   "metadata": {},
   "outputs": [],
   "source": [
    "import numpy as np\n",
    "from matplotlib import pyplot as plt\n",
    "from IPython import display\n",
    "\n",
    "np.random.seed(0)\n",
    "\n",
    "import torch\n",
    "\n",
    "import os\n",
    "# which folder\n",
    "# find the next available folder\n",
    "def get_latest_folder(base_name):\n",
    "    index = 1\n",
    "    while True:\n",
    "        folder = f\"{base_name}_{index}\"\n",
    "        if not os.path.exists(folder):\n",
    "            folder = f\"{base_name}_{index-1}\"\n",
    "            return folder\n",
    "        index += 1\n",
    "folder = get_latest_folder(\"world\")\n",
    "# Function to get the next available filename\n",
    "def get_next_filename(base_name, extension):\n",
    "    index = 1\n",
    "    while True:\n",
    "        filename = f\"{base_name}_{index}.{extension}\"\n",
    "        if not os.path.exists(filename):\n",
    "            return filename\n",
    "        index += 1"
   ]
  },
  {
   "cell_type": "code",
   "execution_count": 2,
   "metadata": {},
   "outputs": [
    {
     "data": {
      "image/png": "[encoded data removed]",
      "text/plain": [
       "<Figure size 500x500 with 1 Axes>"
      ]
     },
     "metadata": {},
     "output_type": "display_data"
    }
   ],
   "source": [
    "from maze_env import Maze\n",
    "env = Maze(sparse=True)\n",
    "env.plot()"
   ]
  },
  {
   "cell_type": "code",
   "execution_count": 3,
   "metadata": {},
   "outputs": [
    {
     "name": "stdout",
     "output_type": "stream",
     "text": [
      "The shape of the state pairs are: \n",
      "torch.Size([1000000, 2, 2])\n",
      "Example of a state pair: tensor([[39., 14.],\n",
      "        [37., 32.]])\n",
      "\n",
      "The shape of the preferences are: \n",
      "torch.Size([1000000, 1])\n",
      "The preferences are: tensor([[1.],\n",
      "        [0.],\n",
      "        [1.],\n",
      "        ...,\n",
      "        [1.],\n",
      "        [1.],\n",
      "        [1.]])\n"
     ]
    },
    {
     "data": {
      "image/png": "[encoded data removed]",
      "text/plain": [
       "<Figure size 2000x500 with 5 Axes>"
      ]
     },
     "metadata": {},
     "output_type": "display_data"
    }
   ],
   "source": [
    "# load the state_pairs and preferences.pt\n",
    "state_pairs = torch.load(f'{folder}/state_pairs.pt')\n",
    "preferences = torch.load(f'{folder}/preferences.pt')\n",
    "\n",
    "print(\"The shape of the state pairs are: \\n\" + str(state_pairs.size()))\n",
    "print(\"Example of a state pair: \" + str(state_pairs[0]))\n",
    "print(\"\")\n",
    "print(\"The shape of the preferences are: \\n\" + str(preferences.size()))\n",
    "print(\"The preferences are: \" + str(preferences))\n",
    "\n",
    "num_pairs = state_pairs.size()[0]\n",
    "# select 5 random pairs of states, and colour the state that is prefered in green\n",
    "num_plot = 5\n",
    "# create subplots\n",
    "fig, axs = plt.subplots(1, num_plot, figsize=(20,5))\n",
    "# plot each state pair\n",
    "for i in range(num_plot):\n",
    "    # randomly choose a state pair\n",
    "    idx = np.random.randint(num_pairs)\n",
    "    s1 = state_pairs[idx,0,:]\n",
    "    s2 = state_pairs[idx,1,:]\n",
    "    p = preferences[idx,0]\n",
    "    # plot the first state\n",
    "    axs[i].imshow(env.occ_map.T, origin=\"lower\",extent=[0,env.Nx,0,env.Ny], cmap='gray')\n",
    "    axs[i].plot(env.gx+0.5,env.gy+0.5,'gx') # goal location\n",
    "    axs[i].plot(s1[0]+0.5,s1[1]+0.5,'bo')\n",
    "    # plot the second state\n",
    "    axs[i].plot(s2[0]+0.5,s2[1]+0.5,'bo')\n",
    "    # plot the prefered state in green\n",
    "    if p == 0:\n",
    "        axs[i].plot(s1[0]+0.5,s1[1]+0.5,'go', label='prefered state')\n",
    "    else:\n",
    "        axs[i].plot(s2[0]+0.5,s2[1]+0.5,'go', label='prefered state')\n",
    "    # finish up the rest of the plot settings\n",
    "    axs[i].legend()\n",
    "    axs[i].axis('off')"
   ]
  },
  {
   "cell_type": "code",
   "execution_count": 4,
   "metadata": {},
   "outputs": [],
   "source": [
    "# create dataset\n",
    "from torch.utils.data import DataLoader\n",
    "from torch.utils.data.dataset import Dataset\n",
    "\n",
    "class PreferenceDataset(Dataset):\n",
    "    def __init__(self, state_pairs, preferences):\n",
    "        self.state_pairs = state_pairs\n",
    "        self.preferences = preferences\n",
    "\n",
    "    def __getitem__(self, index):\n",
    "        return self.state_pairs[index], self.preferences[index]\n",
    "\n",
    "    def __len__(self):\n",
    "        return len(self.state_pairs)"
   ]
  },
  {
   "cell_type": "code",
   "execution_count": 5,
   "metadata": {},
   "outputs": [
    {
     "name": "stdout",
     "output_type": "stream",
     "text": [
      "The shape of the input batch: torch.Size([1000, 2, 2])\n",
      "The shape of the batch labels: torch.Size([1000, 1])\n"
     ]
    }
   ],
   "source": [
    "dataset = PreferenceDataset(state_pairs, preferences)\n",
    "# split the dataset into train, validation and test\n",
    "train_size = int(0.7 * len(dataset))\n",
    "val_size = int(0.2 * len(dataset))\n",
    "test_size = len(dataset) - train_size - val_size\n",
    "train_set, val_set, test_set = torch.utils.data.random_split(dataset, [train_size, val_size, test_size])\n",
    "# create dataloaders\n",
    "batch_size = 1000\n",
    "train_loader = DataLoader(train_set, batch_size=batch_size, shuffle=True)\n",
    "val_loader = DataLoader(val_set, batch_size=batch_size, shuffle=True)\n",
    "test_loader = DataLoader(test_set, batch_size=batch_size, shuffle=True)\n",
    "\n",
    "# print the shapes of batches from dataloaders\n",
    "batch = next(iter(train_loader))\n",
    "print(\"The shape of the input batch: \" + str(batch[0].shape))\n",
    "print(\"The shape of the batch labels: \" + str(batch[1].shape))"
   ]
  },
  {
   "cell_type": "code",
   "execution_count": 6,
   "metadata": {},
   "outputs": [],
   "source": [
    "import torch.nn as nn\n",
    "import torch.nn.functional as F\n",
    "import torch.optim\n",
    "\n",
    "# create a preference learning model\n",
    "from maze_PTR_model import MazePTRModel\n",
    "    \n",
    "# training step\n",
    "def training_step(input_batch, target_batch, model, optimizer, loss_fn):\n",
    "    preds = model(input_batch) # forward pass\n",
    "    loss = loss_fn(preds, target_batch) # find loss\n",
    "    optimizer.zero_grad() # clear gradients in the optimiser\n",
    "    loss.backward() # back prop\n",
    "    optimizer.step() # gradient descend\n",
    "    return loss.item() # return loss\n",
    "\n",
    "# validation step\n",
    "def validation_step(input_batch, target_batch, model, loss_fn):\n",
    "    preds = model(input_batch) # forward pass\n",
    "    loss = loss_fn(preds, target_batch) # find loss\n",
    "    return loss.item()"
   ]
  },
  {
   "cell_type": "code",
   "execution_count": 7,
   "metadata": {},
   "outputs": [
    {
     "name": "stdout",
     "output_type": "stream",
     "text": [
      "MazePTRModel(\n",
      "  (fc): Sequential(\n",
      "    (0): Linear(in_features=80, out_features=1600, bias=True)\n",
      "    (1): LeakyReLU(negative_slope=0.01)\n",
      "    (2): Linear(in_features=1600, out_features=800, bias=True)\n",
      "    (3): LeakyReLU(negative_slope=0.01)\n",
      "    (4): Linear(in_features=800, out_features=1, bias=True)\n",
      "  )\n",
      "  (sigmoid): Sigmoid()\n",
      "  (relu): LeakyReLU(negative_slope=0.01)\n",
      ")\n"
     ]
    }
   ],
   "source": [
    "# instantiate\n",
    "model = MazePTRModel()\n",
    "\n",
    "print(model)\n",
    "\n",
    "optimizer = torch.optim.SGD(model.parameters(), lr=0.01)\n",
    "\n",
    "def loss_fn(preds, target):\n",
    "    return F.binary_cross_entropy(preds, target)\n",
    "\n",
    "num_epochs = 200"
   ]
  },
  {
   "cell_type": "code",
   "execution_count": 8,
   "metadata": {},
   "outputs": [
    {
     "name": "stdout",
     "output_type": "stream",
     "text": [
      "Epoch: 1/200, Train Loss: 0.3059, Val Loss: 0.1961\n",
      "Epoch: 2/200, Train Loss: 0.1603, Val Loss: 0.1361\n",
      "Epoch: 3/200, Train Loss: 0.1197, Val Loss: 0.1076\n",
      "Epoch: 4/200, Train Loss: 0.0976, Val Loss: 0.0903\n",
      "Epoch: 5/200, Train Loss: 0.0835, Val Loss: 0.0786\n",
      "Epoch: 6/200, Train Loss: 0.0738, Val Loss: 0.0701\n",
      "Epoch: 7/200, Train Loss: 0.0667, Val Loss: 0.0636\n",
      "Epoch: 8/200, Train Loss: 0.0613, Val Loss: 0.0584\n",
      "Epoch: 9/200, Train Loss: 0.0566, Val Loss: 0.0546\n",
      "Epoch: 10/200, Train Loss: 0.0529, Val Loss: 0.0510\n",
      "Epoch: 11/200, Train Loss: 0.0495, Val Loss: 0.0476\n",
      "Epoch: 12/200, Train Loss: 0.0468, Val Loss: 0.0454\n",
      "Epoch: 13/200, Train Loss: 0.0447, Val Loss: 0.0432\n",
      "Epoch: 14/200, Train Loss: 0.0426, Val Loss: 0.0412\n",
      "Epoch: 15/200, Train Loss: 0.0410, Val Loss: 0.0395\n",
      "Epoch: 16/200, Train Loss: 0.0394, Val Loss: 0.0379\n",
      "Epoch: 17/200, Train Loss: 0.0380, Val Loss: 0.0365\n",
      "Epoch: 18/200, Train Loss: 0.0368, Val Loss: 0.0357\n",
      "Epoch: 19/200, Train Loss: 0.0355, Val Loss: 0.0345\n",
      "Epoch: 20/200, Train Loss: 0.0344, Val Loss: 0.0335\n",
      "Epoch: 21/200, Train Loss: 0.0334, Val Loss: 0.0325\n",
      "Epoch: 22/200, Train Loss: 0.0325, Val Loss: 0.0320\n",
      "Epoch: 23/200, Train Loss: 0.0315, Val Loss: 0.0312\n",
      "Epoch: 24/200, Train Loss: 0.0307, Val Loss: 0.0304\n",
      "Epoch: 25/200, Train Loss: 0.0299, Val Loss: 0.0296\n",
      "Epoch: 26/200, Train Loss: 0.0292, Val Loss: 0.0290\n",
      "Epoch: 27/200, Train Loss: 0.0286, Val Loss: 0.0283\n",
      "Epoch: 28/200, Train Loss: 0.0280, Val Loss: 0.0277\n",
      "Epoch: 29/200, Train Loss: 0.0274, Val Loss: 0.0272\n",
      "Epoch: 30/200, Train Loss: 0.0268, Val Loss: 0.0262\n",
      "Epoch: 31/200, Train Loss: 0.0263, Val Loss: 0.0257\n",
      "Epoch: 32/200, Train Loss: 0.0258, Val Loss: 0.0252\n",
      "Epoch: 33/200, Train Loss: 0.0254, Val Loss: 0.0248\n",
      "Epoch: 34/200, Train Loss: 0.0249, Val Loss: 0.0244\n",
      "Epoch: 35/200, Train Loss: 0.0245, Val Loss: 0.0240\n",
      "Epoch: 36/200, Train Loss: 0.0241, Val Loss: 0.0236\n",
      "Epoch: 37/200, Train Loss: 0.0238, Val Loss: 0.0232\n",
      "Epoch: 38/200, Train Loss: 0.0234, Val Loss: 0.0229\n",
      "Epoch: 39/200, Train Loss: 0.0230, Val Loss: 0.0225\n",
      "Epoch: 40/200, Train Loss: 0.0227, Val Loss: 0.0222\n",
      "Epoch: 41/200, Train Loss: 0.0224, Val Loss: 0.0219\n",
      "Epoch: 42/200, Train Loss: 0.0221, Val Loss: 0.0216\n",
      "Epoch: 43/200, Train Loss: 0.0218, Val Loss: 0.0213\n",
      "Epoch: 44/200, Train Loss: 0.0216, Val Loss: 0.0210\n",
      "Epoch: 45/200, Train Loss: 0.0213, Val Loss: 0.0207\n",
      "Epoch: 46/200, Train Loss: 0.0211, Val Loss: 0.0209\n"
     ]
    },
    {
     "ename": "KeyboardInterrupt",
     "evalue": "",
     "output_type": "error",
     "traceback": [
      "\u001b[0;31m---------------------------------------------------------------------------\u001b[0m",
      "\u001b[0;31mKeyboardInterrupt\u001b[0m                         Traceback (most recent call last)",
      "Cell \u001b[0;32mIn[8], line 24\u001b[0m\n\u001b[1;32m     22\u001b[0m model\u001b[38;5;241m.\u001b[39mtrain()\n\u001b[1;32m     23\u001b[0m \u001b[38;5;28;01mfor\u001b[39;00m input_batch, target_batch \u001b[38;5;129;01min\u001b[39;00m train_loader:\n\u001b[0;32m---> 24\u001b[0m     train_loss \u001b[38;5;241m+\u001b[39m\u001b[38;5;241m=\u001b[39m \u001b[43mtraining_step\u001b[49m\u001b[43m(\u001b[49m\u001b[43minput_batch\u001b[49m\u001b[43m,\u001b[49m\u001b[43m \u001b[49m\u001b[43mtarget_batch\u001b[49m\u001b[43m,\u001b[49m\u001b[43m \u001b[49m\u001b[43mmodel\u001b[49m\u001b[43m,\u001b[49m\u001b[43m \u001b[49m\u001b[43moptimizer\u001b[49m\u001b[43m,\u001b[49m\u001b[43m \u001b[49m\u001b[43mloss_fn\u001b[49m\u001b[43m)\u001b[49m\n\u001b[1;32m     25\u001b[0m \u001b[38;5;66;03m# validation\u001b[39;00m\n\u001b[1;32m     26\u001b[0m model\u001b[38;5;241m.\u001b[39meval()\n",
      "Cell \u001b[0;32mIn[6], line 13\u001b[0m, in \u001b[0;36mtraining_step\u001b[0;34m(input_batch, target_batch, model, optimizer, loss_fn)\u001b[0m\n\u001b[1;32m     11\u001b[0m loss \u001b[38;5;241m=\u001b[39m loss_fn(preds, target_batch) \u001b[38;5;66;03m# find loss\u001b[39;00m\n\u001b[1;32m     12\u001b[0m optimizer\u001b[38;5;241m.\u001b[39mzero_grad() \u001b[38;5;66;03m# clear gradients in the optimiser\u001b[39;00m\n\u001b[0;32m---> 13\u001b[0m \u001b[43mloss\u001b[49m\u001b[38;5;241;43m.\u001b[39;49m\u001b[43mbackward\u001b[49m\u001b[43m(\u001b[49m\u001b[43m)\u001b[49m \u001b[38;5;66;03m# back prop\u001b[39;00m\n\u001b[1;32m     14\u001b[0m optimizer\u001b[38;5;241m.\u001b[39mstep() \u001b[38;5;66;03m# gradient descend\u001b[39;00m\n\u001b[1;32m     15\u001b[0m \u001b[38;5;28;01mreturn\u001b[39;00m loss\u001b[38;5;241m.\u001b[39mitem()\n",
      "File \u001b[0;32m~/anaconda3/envs/RL-simple/lib/python3.8/site-packages/torch/_tensor.py:492\u001b[0m, in \u001b[0;36mTensor.backward\u001b[0;34m(self, gradient, retain_graph, create_graph, inputs)\u001b[0m\n\u001b[1;32m    482\u001b[0m \u001b[38;5;28;01mif\u001b[39;00m has_torch_function_unary(\u001b[38;5;28mself\u001b[39m):\n\u001b[1;32m    483\u001b[0m     \u001b[38;5;28;01mreturn\u001b[39;00m handle_torch_function(\n\u001b[1;32m    484\u001b[0m         Tensor\u001b[38;5;241m.\u001b[39mbackward,\n\u001b[1;32m    485\u001b[0m         (\u001b[38;5;28mself\u001b[39m,),\n\u001b[0;32m   (...)\u001b[0m\n\u001b[1;32m    490\u001b[0m         inputs\u001b[38;5;241m=\u001b[39minputs,\n\u001b[1;32m    491\u001b[0m     )\n\u001b[0;32m--> 492\u001b[0m \u001b[43mtorch\u001b[49m\u001b[38;5;241;43m.\u001b[39;49m\u001b[43mautograd\u001b[49m\u001b[38;5;241;43m.\u001b[39;49m\u001b[43mbackward\u001b[49m\u001b[43m(\u001b[49m\n\u001b[1;32m    493\u001b[0m \u001b[43m    \u001b[49m\u001b[38;5;28;43mself\u001b[39;49m\u001b[43m,\u001b[49m\u001b[43m \u001b[49m\u001b[43mgradient\u001b[49m\u001b[43m,\u001b[49m\u001b[43m \u001b[49m\u001b[43mretain_graph\u001b[49m\u001b[43m,\u001b[49m\u001b[43m \u001b[49m\u001b[43mcreate_graph\u001b[49m\u001b[43m,\u001b[49m\u001b[43m \u001b[49m\u001b[43minputs\u001b[49m\u001b[38;5;241;43m=\u001b[39;49m\u001b[43minputs\u001b[49m\n\u001b[1;32m    494\u001b[0m \u001b[43m\u001b[49m\u001b[43m)\u001b[49m\n",
      "File \u001b[0;32m~/anaconda3/envs/RL-simple/lib/python3.8/site-packages/torch/autograd/__init__.py:251\u001b[0m, in \u001b[0;36mbackward\u001b[0;34m(tensors, grad_tensors, retain_graph, create_graph, grad_variables, inputs)\u001b[0m\n\u001b[1;32m    246\u001b[0m     retain_graph \u001b[38;5;241m=\u001b[39m create_graph\n\u001b[1;32m    248\u001b[0m \u001b[38;5;66;03m# The reason we repeat the same comment below is that\u001b[39;00m\n\u001b[1;32m    249\u001b[0m \u001b[38;5;66;03m# some Python versions print out the first line of a multi-line function\u001b[39;00m\n\u001b[1;32m    250\u001b[0m \u001b[38;5;66;03m# calls in the traceback and some print out the last line\u001b[39;00m\n\u001b[0;32m--> 251\u001b[0m \u001b[43mVariable\u001b[49m\u001b[38;5;241;43m.\u001b[39;49m\u001b[43m_execution_engine\u001b[49m\u001b[38;5;241;43m.\u001b[39;49m\u001b[43mrun_backward\u001b[49m\u001b[43m(\u001b[49m\u001b[43m  \u001b[49m\u001b[38;5;66;43;03m# Calls into the C++ engine to run the backward pass\u001b[39;49;00m\n\u001b[1;32m    252\u001b[0m \u001b[43m    \u001b[49m\u001b[43mtensors\u001b[49m\u001b[43m,\u001b[49m\n\u001b[1;32m    253\u001b[0m \u001b[43m    \u001b[49m\u001b[43mgrad_tensors_\u001b[49m\u001b[43m,\u001b[49m\n\u001b[1;32m    254\u001b[0m \u001b[43m    \u001b[49m\u001b[43mretain_graph\u001b[49m\u001b[43m,\u001b[49m\n\u001b[1;32m    255\u001b[0m \u001b[43m    \u001b[49m\u001b[43mcreate_graph\u001b[49m\u001b[43m,\u001b[49m\n\u001b[1;32m    256\u001b[0m \u001b[43m    \u001b[49m\u001b[43minputs\u001b[49m\u001b[43m,\u001b[49m\n\u001b[1;32m    257\u001b[0m \u001b[43m    \u001b[49m\u001b[43mallow_unreachable\u001b[49m\u001b[38;5;241;43m=\u001b[39;49m\u001b[38;5;28;43;01mTrue\u001b[39;49;00m\u001b[43m,\u001b[49m\n\u001b[1;32m    258\u001b[0m \u001b[43m    \u001b[49m\u001b[43maccumulate_grad\u001b[49m\u001b[38;5;241;43m=\u001b[39;49m\u001b[38;5;28;43;01mTrue\u001b[39;49;00m\u001b[43m,\u001b[49m\n\u001b[1;32m    259\u001b[0m \u001b[43m\u001b[49m\u001b[43m)\u001b[49m\n",
      "\u001b[0;31mKeyboardInterrupt\u001b[0m: "
     ]
    }
   ],
   "source": [
    "# if the models folder doesn't exist, create one\n",
    "if not os.path.exists(f'{folder}/models'):\n",
    "    os.makedirs(f'{folder}/models')\n",
    "#base_filename = f'{folder}/models/best_model'\n",
    "#file_extension = 'pt'\n",
    "#next_filename = get_next_filename(base_filename, file_extension)\n",
    "best_model_filename = f'{folder}/models/best_model.pt'\n",
    "last_model_filename = f'{folder}/models/last_model.pt'\n",
    "\n",
    "# train\n",
    "train_losses = []\n",
    "val_losses = []\n",
    "min_val_loss = float('inf')\n",
    "early_stop_counter = 0\n",
    "patience = 1000\n",
    "\n",
    "for epoch in range(num_epochs):\n",
    "    train_loss = 0.0\n",
    "    val_loss = 0.0\n",
    "    \n",
    "    # training\n",
    "    model.train()\n",
    "    for input_batch, target_batch in train_loader:\n",
    "        train_loss += training_step(input_batch, target_batch, model, optimizer, loss_fn)\n",
    "    # validation\n",
    "    model.eval()\n",
    "    for input_batch, target_batch in val_loader:\n",
    "        val_loss += validation_step(input_batch, target_batch, model, loss_fn)\n",
    "        \n",
    "    # normalise the losses\n",
    "    train_loss /= len(train_loader)\n",
    "    val_loss /= len(val_loader)\n",
    "    \n",
    "    # Check if validation loss has decreased\n",
    "    if val_loss < min_val_loss:\n",
    "        min_val_loss = val_loss\n",
    "        # Save the model state\n",
    "        torch.save(model.state_dict(), best_model_filename)\n",
    "        # clear early stop counter\n",
    "        early_stop_counter = 0\n",
    "    else:\n",
    "        early_stop_counter += 1\n",
    "        if early_stop_counter >= patience:\n",
    "            print(f'Early stopping at epoch {epoch+1}')\n",
    "            break\n",
    "    torch.save(model.state_dict(), last_model_filename)\n",
    "    # append the losses\n",
    "    train_losses.append(train_loss)\n",
    "    val_losses.append(val_loss)\n",
    "    # print the losses every 10 epoch\n",
    "    #if epoch % 10 == 0:\n",
    "    print(f\"Epoch: {epoch+1}/{num_epochs}, Train Loss: {train_loss:.4f}, Val Loss: {val_loss:.4f}\")"
   ]
  },
  {
   "cell_type": "code",
   "execution_count": 9,
   "metadata": {},
   "outputs": [
    {
     "data": {
      "image/png": "[encoded data removed]",
      "text/plain": [
       "<Figure size 640x480 with 1 Axes>"
      ]
     },
     "metadata": {},
     "output_type": "display_data"
    }
   ],
   "source": [
    "# if the figs folder doesn't exist, create one\n",
    "if not os.path.exists(f'{folder}/figs'):\n",
    "    os.makedirs(f'{folder}/figs')\n",
    "#base_filename = f'{folder}/figs/loss'\n",
    "#file_extension = 'png'\n",
    "#next_filename = get_next_filename(base_filename, file_extension)\n",
    "next_filename = f'{folder}/figs/loss.png'\n",
    "\n",
    "# plot the losses\n",
    "plt.plot(train_losses, label='train loss')\n",
    "plt.plot(val_losses, label='val loss')  \n",
    "plt.xlabel('epoch')\n",
    "plt.ylabel('loss')\n",
    "plt.title('Losses')\n",
    "plt.legend()\n",
    "plt.savefig(next_filename)\n",
    "plt.show()"
   ]
  },
  {
   "cell_type": "code",
   "execution_count": 10,
   "metadata": {},
   "outputs": [
    {
     "data": {
      "image/png": "[encoded data removed]",
      "text/plain": [
       "<Figure size 640x480 with 2 Axes>"
      ]
     },
     "metadata": {},
     "output_type": "display_data"
    }
   ],
   "source": [
    "# plot the predictions over a 2D grid \n",
    "def plot_predictions(model, env):\n",
    "    # create a 2D grid\n",
    "    x = np.linspace(0, env.Nx-1, env.Nx)\n",
    "    y = np.linspace(0, env.Ny-1, env.Ny)\n",
    "    Y, X = np.meshgrid(x, y)\n",
    "    \n",
    "    # create a tensor of the grid\n",
    "    grid = torch.tensor(np.stack([X.flatten(), Y.flatten()], axis=1), dtype=torch.float)\n",
    "    # get the predictions\n",
    "    time_proximity_to_goal = model.predict_time_to_goal(grid).detach().numpy()\n",
    "    # reshape the predictions\n",
    "    time_proximity_to_goal = time_proximity_to_goal.reshape(env.Nx, env.Ny)\n",
    "    #rewards = np.exp(-1*time_proximity_to_goal)\n",
    "    time_proximity_to_goal = (time_proximity_to_goal - np.min(time_proximity_to_goal))/(np.max(time_proximity_to_goal) - np.min(time_proximity_to_goal))\n",
    "    rewards = 1 - time_proximity_to_goal\n",
    "    # plot the predictions\n",
    "    plt.imshow(rewards.T, origin=\"lower\",extent=[0,env.Nx,0,env.Ny], cmap='gray')\n",
    "    plt.colorbar()\n",
    "    plt.plot(env.gx+0.5,env.gy+0.5,'gx') # goal location\n",
    "    plt.xlabel('x')\n",
    "    plt.ylabel('y')\n",
    "    plt.title('Predictions')\n",
    "    plt.show()\n",
    "model.eval()\n",
    "plot_predictions(model, env)"
   ]
  },
  {
   "cell_type": "code",
   "execution_count": null,
   "metadata": {},
   "outputs": [],
   "source": []
  }
 ],
 "metadata": {
  "kernelspec": {
   "display_name": "RL1",
   "language": "python",
   "name": "python3"
  },
  "language_info": {
   "codemirror_mode": {
    "name": "ipython",
    "version": 3
   },
   "file_extension": ".py",
   "mimetype": "text/x-python",
   "name": "python",
   "nbconvert_exporter": "python",
   "pygments_lexer": "ipython3",
   "version": "3.8.18"
  }
 },
 "nbformat": 4,
 "nbformat_minor": 2
}
